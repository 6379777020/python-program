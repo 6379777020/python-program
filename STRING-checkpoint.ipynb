{
 "cells": [
  {
   "cell_type": "code",
   "execution_count": 2,
   "id": "6ba93fdd",
   "metadata": {},
   "outputs": [
    {
     "name": "stdout",
     "output_type": "stream",
     "text": [
      "nivash _122012173021\n"
     ]
    }
   ],
   "source": [
    "print(\"nivash _122012173021\")"
   ]
  },
  {
   "cell_type": "code",
   "execution_count": 3,
   "id": "b4ffe30a",
   "metadata": {},
   "outputs": [
    {
     "name": "stdout",
     "output_type": "stream",
     "text": [
      "H                             I\n"
     ]
    }
   ],
   "source": [
    "print(\"H                             I\")\n"
   ]
  },
  {
   "cell_type": "code",
   "execution_count": 4,
   "id": "cf4997c7",
   "metadata": {},
   "outputs": [
    {
     "name": "stdout",
     "output_type": "stream",
     "text": [
      "587 647 965\n"
     ]
    }
   ],
   "source": [
    "print(587,647,965)"
   ]
  },
  {
   "cell_type": "code",
   "execution_count": 5,
   "id": "43396982",
   "metadata": {},
   "outputs": [
    {
     "name": "stdout",
     "output_type": "stream",
     "text": [
      "hi_I AM &nivas\n"
     ]
    }
   ],
   "source": [
    "print(\"hi_I AM &nivas\")"
   ]
  },
  {
   "cell_type": "code",
   "execution_count": 6,
   "id": "3d99f8db",
   "metadata": {},
   "outputs": [
    {
     "name": "stdout",
     "output_type": "stream",
     "text": [
      "my age is 18\n"
     ]
    }
   ],
   "source": [
    "print(\"my age is {}\".format(18))"
   ]
  },
  {
   "cell_type": "code",
   "execution_count": 7,
   "id": "b5c074c8",
   "metadata": {},
   "outputs": [
    {
     "name": "stdout",
     "output_type": "stream",
     "text": [
      "THIS PC NAME IS dell\n"
     ]
    }
   ],
   "source": [
    "print(\"THIS PC NAME IS {}\".format(\"dell\"))\n",
    "    "
   ]
  },
  {
   "cell_type": "code",
   "execution_count": 8,
   "id": "ca4fbc90",
   "metadata": {},
   "outputs": [
    {
     "name": "stdout",
     "output_type": "stream",
     "text": [
      "hidarajwelcometo my home\n"
     ]
    }
   ],
   "source": [
    "print(\"hi{}{}{}{}\".format(\"da\",\"raj\",\"welcome\",\"to my home\"))"
   ]
  },
  {
   "cell_type": "code",
   "execution_count": 9,
   "id": "c82c6e0f",
   "metadata": {},
   "outputs": [
    {
     "name": "stdout",
     "output_type": "stream",
     "text": [
      "my_welcome_da_raja\n"
     ]
    }
   ],
   "source": [
    "print(\"my{2}{1}{0}\".format(\"_raja\",\"_da\",\"_welcome\"))"
   ]
  },
  {
   "cell_type": "code",
   "execution_count": 10,
   "id": "a5e88561",
   "metadata": {},
   "outputs": [
    {
     "name": "stdout",
     "output_type": "stream",
     "text": [
      "hi_da_welcome_to my home\n"
     ]
    }
   ],
   "source": [
    "print(\"hi{a}{b}{c}\".format(a=\"_da\",b=\"_welcome\",c=\"_to my home\"))"
   ]
  },
  {
   "cell_type": "code",
   "execution_count": 11,
   "id": "ed97687a",
   "metadata": {},
   "outputs": [
    {
     "name": "stdout",
     "output_type": "stream",
     "text": [
      "A boy BY boy going chennai with a friends\n"
     ]
    }
   ],
   "source": [
    "print(\"A {a} BY {a} going chennai{B}\".format(a=\"boy\",B=\" with a friends\"))"
   ]
  },
  {
   "cell_type": "markdown",
   "id": "f046a5f3",
   "metadata": {},
   "source": [
    "# MULITI SEQ"
   ]
  },
  {
   "cell_type": "code",
   "execution_count": 12,
   "id": "1c2fd210",
   "metadata": {},
   "outputs": [
    {
     "name": "stdout",
     "output_type": "stream",
     "text": [
      "38 72\n"
     ]
    }
   ],
   "source": [
    "x=34\n",
    "y=x+2\n",
    "y=2*y\n",
    "x=y-x\n",
    "print(x,y)"
   ]
  },
  {
   "cell_type": "code",
   "execution_count": 13,
   "id": "8f065995",
   "metadata": {},
   "outputs": [
    {
     "name": "stdout",
     "output_type": "stream",
     "text": [
      "127156.0 16168648336\n"
     ]
    }
   ],
   "source": [
    "x=63578\n",
    "x=x*2\n",
    "y=x*x\n",
    "x=y/x\n",
    "print(x,y)"
   ]
  },
  {
   "cell_type": "code",
   "execution_count": null,
   "id": "d7da7550",
   "metadata": {},
   "outputs": [],
   "source": []
  }
 ],
 "metadata": {
  "kernelspec": {
   "display_name": "Python 3 (ipykernel)",
   "language": "python",
   "name": "python3"
  },
  "language_info": {
   "codemirror_mode": {
    "name": "ipython",
    "version": 3
   },
   "file_extension": ".py",
   "mimetype": "text/x-python",
   "name": "python",
   "nbconvert_exporter": "python",
   "pygments_lexer": "ipython3",
   "version": "3.9.13"
  }
 },
 "nbformat": 4,
 "nbformat_minor": 5
}
