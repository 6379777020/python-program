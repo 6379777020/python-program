{
 "cells": [
  {
   "cell_type": "code",
   "execution_count": 1,
   "id": "dfbf1efc",
   "metadata": {},
   "outputs": [],
   "source": [
    "import array as AR"
   ]
  },
  {
   "cell_type": "code",
   "execution_count": 2,
   "id": "d40345e6",
   "metadata": {},
   "outputs": [],
   "source": [
    "A=AR.array('i',{1,4,5,7,6,0})"
   ]
  },
  {
   "cell_type": "code",
   "execution_count": 4,
   "id": "7163c1fd",
   "metadata": {},
   "outputs": [
    {
     "data": {
      "text/plain": [
       "array('i', [0, 1, 4, 5, 6, 7])"
      ]
     },
     "execution_count": 4,
     "metadata": {},
     "output_type": "execute_result"
    }
   ],
   "source": [
    "A"
   ]
  },
  {
   "cell_type": "code",
   "execution_count": 5,
   "id": "e7827b29",
   "metadata": {},
   "outputs": [],
   "source": [
    "A.extend([56,75,87,55])"
   ]
  },
  {
   "cell_type": "code",
   "execution_count": 6,
   "id": "18517871",
   "metadata": {},
   "outputs": [
    {
     "data": {
      "text/plain": [
       "array('i', [0, 1, 4, 5, 6, 7, 56, 75, 87, 55])"
      ]
     },
     "execution_count": 6,
     "metadata": {},
     "output_type": "execute_result"
    }
   ],
   "source": [
    "A"
   ]
  },
  {
   "cell_type": "code",
   "execution_count": 7,
   "id": "f1902235",
   "metadata": {},
   "outputs": [
    {
     "data": {
      "text/plain": [
       "array('i', [6, 7, 56, 75])"
      ]
     },
     "execution_count": 7,
     "metadata": {},
     "output_type": "execute_result"
    }
   ],
   "source": [
    "A[4:8]"
   ]
  },
  {
   "cell_type": "code",
   "execution_count": 8,
   "id": "9e0d312b",
   "metadata": {},
   "outputs": [],
   "source": [
    "bb=AR.array('i', [6, 7, 56, 75])"
   ]
  },
  {
   "cell_type": "code",
   "execution_count": 9,
   "id": "95cd5839",
   "metadata": {},
   "outputs": [
    {
     "data": {
      "text/plain": [
       "array('i', [6, 7, 56, 75])"
      ]
     },
     "execution_count": 9,
     "metadata": {},
     "output_type": "execute_result"
    }
   ],
   "source": [
    "bb"
   ]
  },
  {
   "cell_type": "code",
   "execution_count": 10,
   "id": "69937afa",
   "metadata": {},
   "outputs": [],
   "source": [
    "bb.reverse()"
   ]
  },
  {
   "cell_type": "code",
   "execution_count": 11,
   "id": "0e72025b",
   "metadata": {},
   "outputs": [
    {
     "data": {
      "text/plain": [
       "array('i', [75, 56, 7, 6])"
      ]
     },
     "execution_count": 11,
     "metadata": {},
     "output_type": "execute_result"
    }
   ],
   "source": [
    "bb"
   ]
  },
  {
   "cell_type": "code",
   "execution_count": null,
   "id": "a8649165",
   "metadata": {},
   "outputs": [],
   "source": []
  }
 ],
 "metadata": {
  "kernelspec": {
   "display_name": "Python 3 (ipykernel)",
   "language": "python",
   "name": "python3"
  },
  "language_info": {
   "codemirror_mode": {
    "name": "ipython",
    "version": 3
   },
   "file_extension": ".py",
   "mimetype": "text/x-python",
   "name": "python",
   "nbconvert_exporter": "python",
   "pygments_lexer": "ipython3",
   "version": "3.9.13"
  }
 },
 "nbformat": 4,
 "nbformat_minor": 5
}
