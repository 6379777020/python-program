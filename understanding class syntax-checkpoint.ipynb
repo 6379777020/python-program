{
 "cells": [
  {
   "cell_type": "markdown",
   "id": "63c0629b",
   "metadata": {},
   "source": [
    "# understanding class syntax"
   ]
  },
  {
   "cell_type": "code",
   "execution_count": 3,
   "id": "93e00580",
   "metadata": {},
   "outputs": [
    {
     "ename": "SyntaxError",
     "evalue": "invalid syntax (473926302.py, line 1)",
     "output_type": "error",
     "traceback": [
      "\u001b[1;36m  File \u001b[1;32m\"C:\\Users\\m.nivashkannan\\AppData\\Local\\Temp\\ipykernel_2952\\473926302.py\"\u001b[1;36m, line \u001b[1;32m1\u001b[0m\n\u001b[1;33m    class <class_name>:\u001b[0m\n\u001b[1;37m          ^\u001b[0m\n\u001b[1;31mSyntaxError\u001b[0m\u001b[1;31m:\u001b[0m invalid syntax\n"
     ]
    }
   ],
   "source": [
    "class <class_name>:\n",
    "    #Docstring\n",
    "    \n",
    "    def-init(self,<parametar>):\n",
    "        # use intial all variable"
   ]
  },
  {
   "cell_type": "markdown",
   "id": "8b5f4158",
   "metadata": {},
   "source": [
    "# crate class"
   ]
  },
  {
   "cell_type": "code",
   "execution_count": null,
   "id": "37399c84",
   "metadata": {},
   "outputs": [],
   "source": []
  },
  {
   "cell_type": "code",
   "execution_count": null,
   "id": "6c6312c8",
   "metadata": {},
   "outputs": [],
   "source": []
  }
 ],
 "metadata": {
  "kernelspec": {
   "display_name": "Python 3 (ipykernel)",
   "language": "python",
   "name": "python3"
  },
  "language_info": {
   "codemirror_mode": {
    "name": "ipython",
    "version": 3
   },
   "file_extension": ".py",
   "mimetype": "text/x-python",
   "name": "python",
   "nbconvert_exporter": "python",
   "pygments_lexer": "ipython3",
   "version": "3.9.13"
  }
 },
 "nbformat": 4,
 "nbformat_minor": 5
}
