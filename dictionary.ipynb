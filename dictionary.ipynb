{
 "cells": [
  {
   "cell_type": "code",
   "execution_count": 1,
   "id": "7edeec42",
   "metadata": {},
   "outputs": [],
   "source": [
    "you={1:\"hi\",2:\"da\",3:\"pop\"}\n",
    "yyy={1:85,2:896,3:\"duqri\"}"
   ]
  },
  {
   "cell_type": "code",
   "execution_count": 2,
   "id": "0ad8ecdb",
   "metadata": {},
   "outputs": [
    {
     "data": {
      "text/plain": [
       "dict"
      ]
     },
     "execution_count": 2,
     "metadata": {},
     "output_type": "execute_result"
    }
   ],
   "source": [
    "type(you)"
   ]
  },
  {
   "cell_type": "code",
   "execution_count": 3,
   "id": "b50602c8",
   "metadata": {},
   "outputs": [
    {
     "data": {
      "text/plain": [
       "dict"
      ]
     },
     "execution_count": 3,
     "metadata": {},
     "output_type": "execute_result"
    }
   ],
   "source": [
    "type(yyy)"
   ]
  },
  {
   "cell_type": "code",
   "execution_count": 4,
   "id": "6a6a8841",
   "metadata": {},
   "outputs": [
    {
     "data": {
      "text/plain": [
       "3"
      ]
     },
     "execution_count": 4,
     "metadata": {},
     "output_type": "execute_result"
    }
   ],
   "source": [
    "len(you)"
   ]
  },
  {
   "cell_type": "code",
   "execution_count": 5,
   "id": "b9e19497",
   "metadata": {},
   "outputs": [
    {
     "data": {
      "text/plain": [
       "3"
      ]
     },
     "execution_count": 5,
     "metadata": {},
     "output_type": "execute_result"
    }
   ],
   "source": [
    "len(yyy)"
   ]
  },
  {
   "cell_type": "code",
   "execution_count": 7,
   "id": "0285bd9a",
   "metadata": {},
   "outputs": [
    {
     "data": {
      "text/plain": [
       "dict_keys([1, 2, 3])"
      ]
     },
     "execution_count": 7,
     "metadata": {},
     "output_type": "execute_result"
    }
   ],
   "source": [
    "you.keys()"
   ]
  },
  {
   "cell_type": "code",
   "execution_count": 9,
   "id": "485525c7",
   "metadata": {},
   "outputs": [
    {
     "data": {
      "text/plain": [
       "dict_keys([1, 2, 3])"
      ]
     },
     "execution_count": 9,
     "metadata": {},
     "output_type": "execute_result"
    }
   ],
   "source": [
    "yyy.keys()"
   ]
  },
  {
   "cell_type": "code",
   "execution_count": 10,
   "id": "4e043976",
   "metadata": {},
   "outputs": [
    {
     "data": {
      "text/plain": [
       "dict_values(['hi', 'da', 'pop'])"
      ]
     },
     "execution_count": 10,
     "metadata": {},
     "output_type": "execute_result"
    }
   ],
   "source": [
    "you.values()"
   ]
  },
  {
   "cell_type": "code",
   "execution_count": 11,
   "id": "0ac04c37",
   "metadata": {},
   "outputs": [
    {
     "data": {
      "text/plain": [
       "dict_values([85, 896, 'duqri'])"
      ]
     },
     "execution_count": 11,
     "metadata": {},
     "output_type": "execute_result"
    }
   ],
   "source": [
    "yyy.values()"
   ]
  },
  {
   "cell_type": "code",
   "execution_count": null,
   "id": "e0306c85",
   "metadata": {},
   "outputs": [],
   "source": []
  }
 ],
 "metadata": {
  "kernelspec": {
   "display_name": "Python 3 (ipykernel)",
   "language": "python",
   "name": "python3"
  },
  "language_info": {
   "codemirror_mode": {
    "name": "ipython",
    "version": 3
   },
   "file_extension": ".py",
   "mimetype": "text/x-python",
   "name": "python",
   "nbconvert_exporter": "python",
   "pygments_lexer": "ipython3",
   "version": "3.9.13"
  }
 },
 "nbformat": 4,
 "nbformat_minor": 5
}
