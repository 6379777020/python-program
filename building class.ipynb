{
 "cells": [
  {
   "cell_type": "markdown",
   "id": "2684251a",
   "metadata": {},
   "source": [
    "# 1.importing library"
   ]
  },
  {
   "cell_type": "code",
   "execution_count": 1,
   "id": "2e9c65e0",
   "metadata": {},
   "outputs": [
    {
     "name": "stdout",
     "output_type": "stream",
     "text": [
      "pygame 2.3.0 (SDL 2.24.2, Python 3.9.13)\n",
      "Hello from the pygame community. https://www.pygame.org/contribute.html\n"
     ]
    }
   ],
   "source": [
    "import pygame\n",
    "import time\n",
    "import random"
   ]
  },
  {
   "cell_type": "markdown",
   "id": "3e83987e",
   "metadata": {},
   "source": [
    "# 2.setting snake speed"
   ]
  },
  {
   "cell_type": "code",
   "execution_count": 2,
   "id": "d1f63adc",
   "metadata": {},
   "outputs": [],
   "source": [
    "snake_speed=15"
   ]
  },
  {
   "cell_type": "markdown",
   "id": "9e288df5",
   "metadata": {},
   "source": [
    "# 3.setting snake size"
   ]
  },
  {
   "cell_type": "code",
   "execution_count": 3,
   "id": "ec131a67",
   "metadata": {},
   "outputs": [],
   "source": [
    "window_x=720\n",
    "window_y=480"
   ]
  },
  {
   "cell_type": "markdown",
   "id": "755c0400",
   "metadata": {},
   "source": [
    "# 4.define colors"
   ]
  },
  {
   "cell_type": "code",
   "execution_count": 6,
   "id": "b95ba4ee",
   "metadata": {},
   "outputs": [],
   "source": [
    "black = pygame.Color(0,0,0)\n",
    "white = pygame.Color(255,255,255)\n",
    "red = pygame.Color(255,0,0)\n",
    "green = pygame.Color(0,255,0)\n",
    "blue = pygame.Color(0,0,255)"
   ]
  },
  {
   "cell_type": "code",
   "execution_count": 7,
   "id": "b1c861d8",
   "metadata": {},
   "outputs": [
    {
     "data": {
      "text/plain": [
       "(4, 1)"
      ]
     },
     "execution_count": 7,
     "metadata": {},
     "output_type": "execute_result"
    }
   ],
   "source": [
    "pygame.init()"
   ]
  },
  {
   "cell_type": "code",
   "execution_count": null,
   "id": "37005be3",
   "metadata": {},
   "outputs": [],
   "source": [
    "pygame.display.set_caption(\"snakes\")\n",
    "game.window=pygame."
   ]
  },
  {
   "cell_type": "code",
   "execution_count": null,
   "id": "de6495fe",
   "metadata": {},
   "outputs": [],
   "source": [
    "fps = pygame.time.clock()"
   ]
  },
  {
   "cell_type": "code",
   "execution_count": null,
   "id": "72feabf8",
   "metadata": {},
   "outputs": [],
   "source": [
    "snake_position =[100,50]"
   ]
  },
  {
   "cell_type": "code",
   "execution_count": null,
   "id": "dc31c772",
   "metadata": {},
   "outputs": [],
   "source": [
    "snake_body=[[100,50],\n",
    "           [90,50],\n",
    "           [80,50],\n",
    "           [70,50]\n",
    "           ]"
   ]
  },
  {
   "cell_type": "code",
   "execution_count": null,
   "id": "bc63c376",
   "metadata": {},
   "outputs": [],
   "source": [
    "fruit_position =[rantom.randrange(1,(window_x//10)) *10,\n",
    "                 rantom.randrange(1,(window_x//10)) *10,]\n",
    "fruit_spawn =True"
   ]
  },
  {
   "cell_type": "code",
   "execution_count": null,
   "id": "a5fd1bdc",
   "metadata": {},
   "outputs": [],
   "source": [
    "direction =\"RIGHT\"\n",
    "change_to =direction"
   ]
  },
  {
   "cell_type": "code",
   "execution_count": null,
   "id": "0f7b8973",
   "metadata": {},
   "outputs": [],
   "source": [
    "score = 0"
   ]
  },
  {
   "cell_type": "code",
   "execution_count": null,
   "id": "12e88668",
   "metadata": {},
   "outputs": [],
   "source": [
    "def show_score(choice,color,font,size):\n",
    "    score_font = pygame.font.Sysfont(font,size)\n",
    "    score_surface = score_font.render(\"score : \" + str (score), True,color)\n",
    "    score_rect = score_surface.get_rect()\n",
    "    game.window.blit(score_surface, score_rect)"
   ]
  },
  {
   "cell_type": "code",
   "execution_count": null,
   "id": "9c903f67",
   "metadata": {},
   "outputs": [],
   "source": [
    "def game_over():\n",
    "    my_font = pygame.font.Sysfont(\"times new roman\",50)\n",
    "    game_over_surface = my_font.render(\"your score is :\" + str(score), True, red)\n",
    "    game_over_rect = game_over_surface.get_rect()\n",
    "    game_over_rect.midtop = (window_x/2,window_y/4)\n",
    "    game_window.blit(game_over_surface, game_over_rect)\n",
    "    pygame.display.flip()\n",
    "    time.sleep(2)\n",
    "    "
   ]
  },
  {
   "cell_type": "code",
   "execution_count": null,
   "id": "c58950b1",
   "metadata": {},
   "outputs": [],
   "source": []
  },
  {
   "cell_type": "code",
   "execution_count": null,
   "id": "bf4b45ce",
   "metadata": {},
   "outputs": [],
   "source": []
  },
  {
   "cell_type": "code",
   "execution_count": null,
   "id": "8230e896",
   "metadata": {},
   "outputs": [],
   "source": []
  },
  {
   "cell_type": "code",
   "execution_count": null,
   "id": "93b3e837",
   "metadata": {},
   "outputs": [],
   "source": []
  },
  {
   "cell_type": "code",
   "execution_count": null,
   "id": "774dab9a",
   "metadata": {},
   "outputs": [],
   "source": []
  },
  {
   "cell_type": "code",
   "execution_count": null,
   "id": "1516c146",
   "metadata": {},
   "outputs": [],
   "source": []
  },
  {
   "cell_type": "code",
   "execution_count": null,
   "id": "51f97a53",
   "metadata": {},
   "outputs": [],
   "source": []
  }
 ],
 "metadata": {
  "kernelspec": {
   "display_name": "Python 3 (ipykernel)",
   "language": "python",
   "name": "python3"
  },
  "language_info": {
   "codemirror_mode": {
    "name": "ipython",
    "version": 3
   },
   "file_extension": ".py",
   "mimetype": "text/x-python",
   "name": "python",
   "nbconvert_exporter": "python",
   "pygments_lexer": "ipython3",
   "version": "3.9.13"
  }
 },
 "nbformat": 4,
 "nbformat_minor": 5
}
