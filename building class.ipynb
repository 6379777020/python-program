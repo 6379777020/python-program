{
 "cells": [
  {
   "cell_type": "markdown",
   "id": "ad9b9eb5",
   "metadata": {},
   "source": [
    "# 1.importing library"
   ]
  },
  {
   "cell_type": "code",
   "execution_count": 1,
   "id": "994d6adc",
   "metadata": {},
   "outputs": [
    {
     "name": "stdout",
     "output_type": "stream",
     "text": [
      "pygame 2.3.0 (SDL 2.24.2, Python 3.9.13)\n",
      "Hello from the pygame community. https://www.pygame.org/contribute.html\n"
     ]
    }
   ],
   "source": [
    "import pygame\n",
    "import time\n",
    "import random"
   ]
  },
  {
   "cell_type": "markdown",
   "id": "9a0f50c6",
   "metadata": {},
   "source": [
    "# 2.setting snake speed"
   ]
  },
  {
   "cell_type": "code",
   "execution_count": 2,
   "id": "81b1a530",
   "metadata": {},
   "outputs": [],
   "source": [
    "snake_speed=15"
   ]
  },
  {
   "cell_type": "markdown",
   "id": "31eee2ae",
   "metadata": {},
   "source": [
    "# 3.setting snake size"
   ]
  },
  {
   "cell_type": "code",
   "execution_count": 3,
   "id": "45f3d29d",
   "metadata": {},
   "outputs": [],
   "source": [
    "window_x=720\n",
    "window_y=480"
   ]
  },
  {
   "cell_type": "markdown",
   "id": "382667d9",
   "metadata": {},
   "source": [
    "# 4.define colors"
   ]
  },
  {
   "cell_type": "code",
   "execution_count": 6,
   "id": "f881c5fa",
   "metadata": {},
   "outputs": [],
   "source": [
    "black = pygame.Color(0,0,0)\n",
    "white = pygame.Color(255,255,255)\n",
    "red = pygame.Color(255,0,0)\n",
    "green = pygame.Color(0,255,0)\n",
    "blue = pygame.Color(0,0,255)"
   ]
  },
  {
   "cell_type": "code",
   "execution_count": 7,
   "id": "608280f0",
   "metadata": {},
   "outputs": [
    {
     "data": {
      "text/plain": [
       "(4, 1)"
      ]
     },
     "execution_count": 7,
     "metadata": {},
     "output_type": "execute_result"
    }
   ],
   "source": [
    "pygame.init()"
   ]
  },
  {
   "cell_type": "code",
   "execution_count": null,
   "id": "477c3545",
   "metadata": {},
   "outputs": [],
   "source": [
    "pygame.display.set_caption(\"snakes\")\n",
    "game.window=pygame."
   ]
  },
  {
   "cell_type": "code",
   "execution_count": null,
   "id": "3be91da9",
   "metadata": {},
   "outputs": [],
   "source": [
    "fps = pygame.time.clock()"
   ]
  },
  {
   "cell_type": "code",
   "execution_count": null,
   "id": "443784d5",
   "metadata": {},
   "outputs": [],
   "source": [
    "snake_position =[100,50]"
   ]
  },
  {
   "cell_type": "code",
   "execution_count": null,
   "id": "79a74808",
   "metadata": {},
   "outputs": [],
   "source": [
    "snake_body=[[100,50],\n",
    "           [90,50],\n",
    "           [80,50],\n",
    "           [70,50]\n",
    "           ]"
   ]
  },
  {
   "cell_type": "code",
   "execution_count": null,
   "id": "d190e6b7",
   "metadata": {},
   "outputs": [],
   "source": [
    "fruit_position =[rantom.randrange(1,(window_x//10)) *10,\n",
    "                 rantom.randrange(1,(window_x//10)) *10,]\n",
    "fruit_spawn =True"
   ]
  },
  {
   "cell_type": "code",
   "execution_count": null,
   "id": "d13bf4c5",
   "metadata": {},
   "outputs": [],
   "source": [
    "direction =\"RIGHT\"\n",
    "change_to =direction"
   ]
  },
  {
   "cell_type": "code",
   "execution_count": null,
   "id": "c8d0a075",
   "metadata": {},
   "outputs": [],
   "source": [
    "score = 0"
   ]
  },
  {
   "cell_type": "code",
   "execution_count": null,
   "id": "f3c525ab",
   "metadata": {},
   "outputs": [],
   "source": [
    "def show_score(choice,color,font,size):\n",
    "    score_font = pygame.font.Sysfont(font,size)\n",
    "    score_surface = score_font.render(\"score : \" + str (score), True,color)\n",
    "    score_rect = score_surface.get_rect()\n",
    "    game.window.blit(score_surface, score_rect)"
   ]
  },
  {
   "cell_type": "code",
   "execution_count": null,
   "id": "30ab244d",
   "metadata": {},
   "outputs": [],
   "source": [
    "def game_over():\n",
    "    my_font = pygame.font.Sysfont(\"times new roman\",50)\n",
    "    game_over_surface = my_font.render(\"your score is :\" + str(score), True, red)\n",
    "    game_over_rect = game_over_surface.get_rect()\n",
    "    game_over_rect.midtop = (window_x/2,window_y/4)\n",
    "    game_window.blit(game_over_surface, game_over_rect)\n",
    "    pygame.display.flip()\n",
    "    time.sleep(2)\n",
    "    pygame.quit()\n",
    "    quit()   "
   ]
  },
  {
   "cell_type": "code",
   "execution_count": null,
   "id": "844f9d86",
   "metadata": {},
   "outputs": [],
   "source": [
    "while True:\n",
    "    for event in pygame.event.get():\n",
    "        if event.type == pygame.KEYDOWN:\n",
    "            if event.key == pygame.K_UP:\n",
    "                change_to = \"UP\"\n",
    "            if event.key == pygame.K_DOWN:\n",
    "                change_to = \"DOWN\"\n",
    "            if event.key == pygame.K_LEFT:\n",
    "                change_to = \"LEFT\"\n",
    "            if event.key == pygame.K_RIGHT:\n",
    "                change_to = \"RIGHT\"\n",
    "     \n",
    "    if change_to ==\"UP\" and direction !=\"DOWN\":\n",
    "        direction=\"DOWN\"\n",
    "    if change_to ==\"DOWN\" and direction !=\"UP\":\n",
    "        direction=\"DOWN\"\n",
    "    if change_to ==\"LIFT\" and direction !=\"RIGHT\":\n",
    "        direction=\"LIFT\"\n",
    "    if change_to ==\"RIGHT\" and direction !=\"DOWN\":\n",
    "        direction=\"RI\" \n",
    "    \n",
    "    "
   ]
  },
  {
   "cell_type": "code",
   "execution_count": null,
   "id": "59b2836a",
   "metadata": {},
   "outputs": [],
   "source": []
  },
  {
   "cell_type": "code",
   "execution_count": null,
   "id": "4f77fd3a",
   "metadata": {},
   "outputs": [],
   "source": []
  },
  {
   "cell_type": "code",
   "execution_count": null,
   "id": "a904dade",
   "metadata": {},
   "outputs": [],
   "source": []
  },
  {
   "cell_type": "code",
   "execution_count": null,
   "id": "84a3bb79",
   "metadata": {},
   "outputs": [],
   "source": []
  },
  {
   "cell_type": "code",
   "execution_count": null,
   "id": "cac3d45a",
   "metadata": {},
   "outputs": [],
   "source": []
  },
  {
   "cell_type": "code",
   "execution_count": null,
   "id": "4cf16cba",
   "metadata": {},
   "outputs": [],
   "source": []
  }
 ],
 "metadata": {
  "kernelspec": {
   "display_name": "Python 3 (ipykernel)",
   "language": "python",
   "name": "python3"
  },
  "language_info": {
   "codemirror_mode": {
    "name": "ipython",
    "version": 3
   },
   "file_extension": ".py",
   "mimetype": "text/x-python",
   "name": "python",
   "nbconvert_exporter": "python",
   "pygments_lexer": "ipython3",
   "version": "3.9.13"
  }
 },
 "nbformat": 4,
 "nbformat_minor": 5
}
