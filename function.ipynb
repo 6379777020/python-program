{
 "cells": [
  {
   "cell_type": "code",
   "execution_count": 1,
   "id": "4fe3b6cf",
   "metadata": {},
   "outputs": [],
   "source": [
    "def Birthday(person,cake,age):\n",
    "    print(f\"happy birthy {person},yor are turning {age} today\")\n",
    "    print(\" {cake} cake ennakku pudikkathu da\")"
   ]
  },
  {
   "cell_type": "code",
   "execution_count": 3,
   "id": "60abbd6c",
   "metadata": {},
   "outputs": [
    {
     "name": "stdout",
     "output_type": "stream",
     "text": [
      "happy birthy guru,yor are turning 18 today\n",
      " {cake} cake ennakku pudikkathu da\n"
     ]
    }
   ],
   "source": [
    "Birthday (\"guru\",\"vanlila\",18)"
   ]
  },
  {
   "cell_type": "code",
   "execution_count": 4,
   "id": "7285113a",
   "metadata": {},
   "outputs": [],
   "source": [
    "def eligebily (intputage):\n",
    "    name = input(\"what is name \")\n",
    "    if intputage>=18:\n",
    "        print(f\" {name} , you are  {intputage} so you are eligbile for voting \")\n",
    "    else:\n",
    "        print(f\" {name} , you are {intputage} so you are not eligbile for voting\")"
   ]
  },
  {
   "cell_type": "code",
   "execution_count": 5,
   "id": "048d6b6e",
   "metadata": {},
   "outputs": [
    {
     "name": "stdout",
     "output_type": "stream",
     "text": [
      "what is name 18\n",
      " 18 , you are  18 so you are eligbile for voting \n"
     ]
    }
   ],
   "source": [
    "eligebily(18)"
   ]
  },
  {
   "cell_type": "code",
   "execution_count": 6,
   "id": "8ddde9dc",
   "metadata": {},
   "outputs": [
    {
     "name": "stdout",
     "output_type": "stream",
     "text": [
      "what is name 18\n",
      " 18 , you are 16 so you are not eligbile for voting\n"
     ]
    }
   ],
   "source": [
    "eligebily(16)"
   ]
  },
  {
   "cell_type": "markdown",
   "id": "de5398d3",
   "metadata": {},
   "source": [
    "# lambda"
   ]
  },
  {
   "cell_type": "code",
   "execution_count": 7,
   "id": "bd6b7ffd",
   "metadata": {},
   "outputs": [],
   "source": [
    "output=lambda n1,n2,n3: n1*n2-n3"
   ]
  },
  {
   "cell_type": "code",
   "execution_count": 8,
   "id": "4e436c67",
   "metadata": {},
   "outputs": [
    {
     "name": "stdout",
     "output_type": "stream",
     "text": [
      "7622\n"
     ]
    }
   ],
   "source": [
    "print(output(78,99,100))"
   ]
  },
  {
   "cell_type": "code",
   "execution_count": 9,
   "id": "c6fe4f2c",
   "metadata": {},
   "outputs": [
    {
     "data": {
      "text/plain": [
       "692"
      ]
     },
     "execution_count": 9,
     "metadata": {},
     "output_type": "execute_result"
    }
   ],
   "source": [
    "output(78,9,10)"
   ]
  },
  {
   "cell_type": "code",
   "execution_count": null,
   "id": "89539ba3",
   "metadata": {},
   "outputs": [],
   "source": []
  }
 ],
 "metadata": {
  "kernelspec": {
   "display_name": "Python 3 (ipykernel)",
   "language": "python",
   "name": "python3"
  },
  "language_info": {
   "codemirror_mode": {
    "name": "ipython",
    "version": 3
   },
   "file_extension": ".py",
   "mimetype": "text/x-python",
   "name": "python",
   "nbconvert_exporter": "python",
   "pygments_lexer": "ipython3",
   "version": "3.9.13"
  }
 },
 "nbformat": 4,
 "nbformat_minor": 5
}
