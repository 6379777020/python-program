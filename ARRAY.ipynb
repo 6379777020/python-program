{
 "cells": [
  {
   "cell_type": "code",
   "execution_count": 1,
   "id": "31ded97a",
   "metadata": {},
   "outputs": [],
   "source": [
    "import array as AR"
   ]
  },
  {
   "cell_type": "code",
   "execution_count": 2,
   "id": "3de47568",
   "metadata": {},
   "outputs": [],
   "source": [
    "v=AR.array('i',{86,56,67,67,78,76 ,986,67485,578,85})"
   ]
  },
  {
   "cell_type": "code",
   "execution_count": 3,
   "id": "ee94c42b",
   "metadata": {},
   "outputs": [
    {
     "data": {
      "text/plain": [
       "array('i', [578, 67, 76, 78, 85, 86, 56, 986, 67485])"
      ]
     },
     "execution_count": 3,
     "metadata": {},
     "output_type": "execute_result"
    }
   ],
   "source": [
    "v"
   ]
  },
  {
   "cell_type": "code",
   "execution_count": 4,
   "id": "0282b488",
   "metadata": {},
   "outputs": [],
   "source": [
    "v.append(657)"
   ]
  },
  {
   "cell_type": "code",
   "execution_count": 5,
   "id": "9ae97a97",
   "metadata": {},
   "outputs": [
    {
     "data": {
      "text/plain": [
       "array('i', [578, 67, 76, 78, 85, 86, 56, 986, 67485, 657])"
      ]
     },
     "execution_count": 5,
     "metadata": {},
     "output_type": "execute_result"
    }
   ],
   "source": [
    "v\n"
   ]
  },
  {
   "cell_type": "code",
   "execution_count": 6,
   "id": "2cf9e4fd",
   "metadata": {},
   "outputs": [],
   "source": [
    "v.extend([66,78])"
   ]
  },
  {
   "cell_type": "code",
   "execution_count": 7,
   "id": "87e43fe5",
   "metadata": {},
   "outputs": [
    {
     "data": {
      "text/plain": [
       "array('i', [578, 67, 76, 78, 85, 86, 56, 986, 67485, 657, 66, 78])"
      ]
     },
     "execution_count": 7,
     "metadata": {},
     "output_type": "execute_result"
    }
   ],
   "source": [
    "v"
   ]
  },
  {
   "cell_type": "code",
   "execution_count": 8,
   "id": "fb9013d5",
   "metadata": {},
   "outputs": [],
   "source": [
    "v.extend([66,78])"
   ]
  },
  {
   "cell_type": "code",
   "execution_count": 9,
   "id": "4ca55bf8",
   "metadata": {},
   "outputs": [
    {
     "data": {
      "text/plain": [
       "array('i', [578, 67, 76, 78, 85, 86, 56, 986, 67485, 657, 66, 78, 66, 78])"
      ]
     },
     "execution_count": 9,
     "metadata": {},
     "output_type": "execute_result"
    }
   ],
   "source": [
    "v"
   ]
  },
  {
   "cell_type": "code",
   "execution_count": 11,
   "id": "a549e6c9",
   "metadata": {},
   "outputs": [
    {
     "ename": "ValueError",
     "evalue": "array.remove(x): x not in array",
     "output_type": "error",
     "traceback": [
      "\u001b[1;31m---------------------------------------------------------------------------\u001b[0m",
      "\u001b[1;31mValueError\u001b[0m                                Traceback (most recent call last)",
      "\u001b[1;32m~\\AppData\\Local\\Temp\\ipykernel_1308\\3498208526.py\u001b[0m in \u001b[0;36m<module>\u001b[1;34m\u001b[0m\n\u001b[1;32m----> 1\u001b[1;33m \u001b[0mv\u001b[0m\u001b[1;33m.\u001b[0m\u001b[0mremove\u001b[0m\u001b[1;33m(\u001b[0m\u001b[1;36m5555\u001b[0m\u001b[1;33m)\u001b[0m\u001b[1;33m\u001b[0m\u001b[1;33m\u001b[0m\u001b[0m\n\u001b[0m",
      "\u001b[1;31mValueError\u001b[0m: array.remove(x): x not in array"
     ]
    }
   ],
   "source": [
    "v.remove(5555)"
   ]
  },
  {
   "cell_type": "code",
   "execution_count": 12,
   "id": "8eaaaccb",
   "metadata": {},
   "outputs": [
    {
     "data": {
      "text/plain": [
       "array('i', [578, 67, 76, 78, 85, 86, 56, 986, 67485, 657, 66, 78, 66, 78])"
      ]
     },
     "execution_count": 12,
     "metadata": {},
     "output_type": "execute_result"
    }
   ],
   "source": [
    "v"
   ]
  },
  {
   "cell_type": "code",
   "execution_count": 13,
   "id": "947399d6",
   "metadata": {},
   "outputs": [
    {
     "data": {
      "text/plain": [
       "578"
      ]
     },
     "execution_count": 13,
     "metadata": {},
     "output_type": "execute_result"
    }
   ],
   "source": [
    "v.pop(0)"
   ]
  },
  {
   "cell_type": "code",
   "execution_count": 14,
   "id": "abb86f27",
   "metadata": {},
   "outputs": [
    {
     "data": {
      "text/plain": [
       "array('i')"
      ]
     },
     "execution_count": 14,
     "metadata": {},
     "output_type": "execute_result"
    }
   ],
   "source": [
    "v[28:34]"
   ]
  },
  {
   "cell_type": "code",
   "execution_count": null,
   "id": "4709d6b1",
   "metadata": {},
   "outputs": [],
   "source": []
  }
 ],
 "metadata": {
  "kernelspec": {
   "display_name": "Python 3 (ipykernel)",
   "language": "python",
   "name": "python3"
  },
  "language_info": {
   "codemirror_mode": {
    "name": "ipython",
    "version": 3
   },
   "file_extension": ".py",
   "mimetype": "text/x-python",
   "name": "python",
   "nbconvert_exporter": "python",
   "pygments_lexer": "ipython3",
   "version": "3.9.13"
  }
 },
 "nbformat": 4,
 "nbformat_minor": 5
}
