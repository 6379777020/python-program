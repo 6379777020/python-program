{
 "cells": [
  {
   "cell_type": "markdown",
   "id": "86844d51",
   "metadata": {},
   "source": [
    "# count"
   ]
  },
  {
   "cell_type": "code",
   "execution_count": 1,
   "id": "cede1539",
   "metadata": {},
   "outputs": [],
   "source": [
    "yes=(6743,974,67,477,733,733,733)"
   ]
  },
  {
   "cell_type": "code",
   "execution_count": 2,
   "id": "d46dc13e",
   "metadata": {},
   "outputs": [
    {
     "data": {
      "text/plain": [
       "3"
      ]
     },
     "execution_count": 2,
     "metadata": {},
     "output_type": "execute_result"
    }
   ],
   "source": [
    "yes.count(733)"
   ]
  },
  {
   "cell_type": "code",
   "execution_count": null,
   "id": "c18294ad",
   "metadata": {},
   "outputs": [],
   "source": []
  }
 ],
 "metadata": {
  "kernelspec": {
   "display_name": "Python 3 (ipykernel)",
   "language": "python",
   "name": "python3"
  },
  "language_info": {
   "codemirror_mode": {
    "name": "ipython",
    "version": 3
   },
   "file_extension": ".py",
   "mimetype": "text/x-python",
   "name": "python",
   "nbconvert_exporter": "python",
   "pygments_lexer": "ipython3",
   "version": "3.9.13"
  }
 },
 "nbformat": 4,
 "nbformat_minor": 5
}
