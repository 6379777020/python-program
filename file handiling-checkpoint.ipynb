{
 "cells": [
  {
   "cell_type": "code",
   "execution_count": 5,
   "id": "b9bed843",
   "metadata": {},
   "outputs": [],
   "source": [
    "file = open(\"nivash.txt\")"
   ]
  },
  {
   "cell_type": "code",
   "execution_count": 6,
   "id": "9f933a21",
   "metadata": {},
   "outputs": [],
   "source": [
    "file = open (\"nivash.txt 01\",'x')"
   ]
  },
  {
   "cell_type": "markdown",
   "id": "a8d94bf9",
   "metadata": {},
   "source": [
    "# differnt\n",
    "1.create mode='x'\n",
    "2.appent modde='a'\n",
    "3.write mode='w'"
   ]
  },
  {
   "cell_type": "code",
   "execution_count": 8,
   "id": "53596544",
   "metadata": {},
   "outputs": [],
   "source": [
    "file.close()"
   ]
  },
  {
   "cell_type": "code",
   "execution_count": 9,
   "id": "59d5b287",
   "metadata": {},
   "outputs": [],
   "source": [
    "f =open(\"file_nivash01.txt\",\"w\")"
   ]
  },
  {
   "cell_type": "code",
   "execution_count": 10,
   "id": "ae087c6d",
   "metadata": {},
   "outputs": [
    {
     "data": {
      "text/plain": [
       "34"
      ]
     },
     "execution_count": 10,
     "metadata": {},
     "output_type": "execute_result"
    }
   ],
   "source": [
    "f.write(\"hi guys,welcome to the last modul.\")"
   ]
  },
  {
   "cell_type": "code",
   "execution_count": 11,
   "id": "a9b5f85a",
   "metadata": {},
   "outputs": [
    {
     "data": {
      "text/plain": [
       "52"
      ]
     },
     "execution_count": 11,
     "metadata": {},
     "output_type": "execute_result"
    }
   ],
   "source": [
    "f.write(\"this is about file handling and expcetions handling.\")"
   ]
  },
  {
   "cell_type": "code",
   "execution_count": 12,
   "id": "a6c7b4aa",
   "metadata": {},
   "outputs": [],
   "source": [
    "f.close()"
   ]
  },
  {
   "cell_type": "code",
   "execution_count": 15,
   "id": "231bf086",
   "metadata": {},
   "outputs": [],
   "source": [
    "f =open(\"file_nivash.txt\",\"x\")"
   ]
  },
  {
   "cell_type": "code",
   "execution_count": null,
   "id": "9fc9d0ef",
   "metadata": {},
   "outputs": [],
   "source": []
  }
 ],
 "metadata": {
  "kernelspec": {
   "display_name": "Python 3 (ipykernel)",
   "language": "python",
   "name": "python3"
  },
  "language_info": {
   "codemirror_mode": {
    "name": "ipython",
    "version": 3
   },
   "file_extension": ".py",
   "mimetype": "text/x-python",
   "name": "python",
   "nbconvert_exporter": "python",
   "pygments_lexer": "ipython3",
   "version": "3.9.13"
  }
 },
 "nbformat": 4,
 "nbformat_minor": 5
}
