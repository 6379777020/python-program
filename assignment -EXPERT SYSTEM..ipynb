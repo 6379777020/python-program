{
 "cells": [
  {
   "cell_type": "code",
   "execution_count": null,
   "id": "f6e8dc36",
   "metadata": {},
   "outputs": [],
   "source": [
    "name = input(\"What is your name? \")\n",
    "print(\"WELCOME TO OUR UNIVERSITY \"'PMIST')\n",
    "age = int(input(\"What is your age? \"))\n",
    "grade = (input(\"What is your grade average? \"))\n",
    "sat_score = int(input(\"What is your 12TH SCHOUR ? \"))\n",
    "course = input(\"What course you want ?\")\n",
    "if grade >= \"a\" or \"b\" or \"c\" or \"d\"  and age >= 21:\n",
    "    if sat_score >= 300:\n",
    "        print(f\"Congratulations, {name} You are eligible for : {course}in our  college admission.\")\n",
    "    else:\n",
    "        print(f\"Sorry, {name}, you need to score at least 300 on  12TH SCHOUR to be eligible for college admission.\")\n",
    "else:\n",
    "    print(f\"Sorry, {name}, you are not eligible for college admission.\")"
   ]
  },
  {
   "cell_type": "code",
   "execution_count": null,
   "id": "ad44e3d1",
   "metadata": {},
   "outputs": [],
   "source": []
  }
 ],
 "metadata": {
  "kernelspec": {
   "display_name": "Python 3 (ipykernel)",
   "language": "python",
   "name": "python3"
  },
  "language_info": {
   "codemirror_mode": {
    "name": "ipython",
    "version": 3
   },
   "file_extension": ".py",
   "mimetype": "text/x-python",
   "name": "python",
   "nbconvert_exporter": "python",
   "pygments_lexer": "ipython3",
   "version": "3.9.13"
  }
 },
 "nbformat": 4,
 "nbformat_minor": 5
}
