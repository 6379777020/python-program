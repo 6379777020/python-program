{
 "cells": [
  {
   "cell_type": "code",
   "execution_count": 1,
   "id": "8be3bc64",
   "metadata": {},
   "outputs": [],
   "source": [
    "from platform import python_version"
   ]
  },
  {
   "cell_type": "code",
   "execution_count": 2,
   "id": "ac99ac7f",
   "metadata": {},
   "outputs": [
    {
     "data": {
      "text/plain": [
       "'3.9.15'"
      ]
     },
     "execution_count": 2,
     "metadata": {},
     "output_type": "execute_result"
    }
   ],
   "source": [
    "python_version()"
   ]
  },
  {
   "cell_type": "code",
   "execution_count": 6,
   "id": "e6d5a656",
   "metadata": {},
   "outputs": [
    {
     "ename": "ModuleNotFoundError",
     "evalue": "No module named 'experta'",
     "output_type": "error",
     "traceback": [
      "\u001b[1;31m---------------------------------------------------------------------------\u001b[0m",
      "\u001b[1;31mModuleNotFoundError\u001b[0m                       Traceback (most recent call last)",
      "Cell \u001b[1;32mIn[6], line 1\u001b[0m\n\u001b[1;32m----> 1\u001b[0m \u001b[38;5;28;01mfrom\u001b[39;00m \u001b[38;5;21;01mexperta\u001b[39;00m \u001b[38;5;28;01mimport\u001b[39;00m\u001b[38;5;241m*\u001b[39m\n\u001b[0;32m      3\u001b[0m \u001b[38;5;28;01mclass\u001b[39;00m \u001b[38;5;21;01mgreetings\u001b[39;00m(knowledgeengine):\n\u001b[0;32m      4\u001b[0m     \u001b[38;5;129m@Deffacts\u001b[39m()\n\u001b[0;32m      5\u001b[0m     \u001b[38;5;28;01mdef\u001b[39;00m \u001b[38;5;21m__initial_action\u001b[39m(\u001b[38;5;28mself\u001b[39m):\n",
      "\u001b[1;31mModuleNotFoundError\u001b[0m: No module named 'experta'"
     ]
    }
   ],
   "source": [
    "from experta import*\n",
    "\n",
    "class greetings(knowledgeengine):\n",
    "    @Deffacts()\n",
    "    def __initial_action(self):\n",
    "        yield fact(action=\"greet\")\n",
    "    @Rule(fact(action='greet'),\n",
    "          NOT(fact(name=w())))\n",
    "    def ask_name(self):\n",
    "        self.deflare(fact(name=input(\"what's your name ? \")))\n",
    "    @Rule(fact(action='greet'),\n",
    "          fact(name=MATCH.name),\n",
    "          fact(location=MATCH.location))\n",
    "    def greet(self,name,location):\n",
    "        print(\"Hi %s! How is the weather in %s?\" % (name,location))"
   ]
  },
  {
   "cell_type": "code",
   "execution_count": 7,
   "id": "5c568bb6",
   "metadata": {},
   "outputs": [
    {
     "ename": "NameError",
     "evalue": "name 'Greetings' is not defined",
     "output_type": "error",
     "traceback": [
      "\u001b[1;31m---------------------------------------------------------------------------\u001b[0m",
      "\u001b[1;31mNameError\u001b[0m                                 Traceback (most recent call last)",
      "Cell \u001b[1;32mIn[7], line 1\u001b[0m\n\u001b[1;32m----> 1\u001b[0m engine \u001b[38;5;241m=\u001b[39m \u001b[43mGreetings\u001b[49m()\n\u001b[0;32m      2\u001b[0m engine\u001b[38;5;241m.\u001b[39mreset() \u001b[38;5;66;03m#prepare the engine for the execution.\u001b[39;00m\n\u001b[0;32m      3\u001b[0m engine\u001b[38;5;241m.\u001b[39mrun()\n",
      "\u001b[1;31mNameError\u001b[0m: name 'Greetings' is not defined"
     ]
    }
   ],
   "source": [
    "engine = Greetings()\n",
    "engine.reset() #prepare the engine for the execution.\n",
    "engine.run() #Run it!"
   ]
  },
  {
   "cell_type": "code",
   "execution_count": null,
   "id": "e7ce7a74",
   "metadata": {},
   "outputs": [],
   "source": []
  }
 ],
 "metadata": {
  "kernelspec": {
   "display_name": "Python 3 (ipykernel)",
   "language": "python",
   "name": "python3"
  },
  "language_info": {
   "codemirror_mode": {
    "name": "ipython",
    "version": 3
   },
   "file_extension": ".py",
   "mimetype": "text/x-python",
   "name": "python",
   "nbconvert_exporter": "python",
   "pygments_lexer": "ipython3",
   "version": "3.9.15"
  }
 },
 "nbformat": 4,
 "nbformat_minor": 5
}
