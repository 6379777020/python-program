{
 "cells": [
  {
   "cell_type": "code",
   "execution_count": null,
   "id": "f23ed93a",
   "metadata": {},
   "outputs": [],
   "source": [
    "pip"
   ]
  },
  {
   "cell_type": "code",
   "execution_count": null,
   "id": "8c25a9ee",
   "metadata": {},
   "outputs": [],
   "source": [
    "import pygame\n",
    "pygame.init()\n",
    "white = (0,255,255)\n",
    "display_surface = pygame.display.set_mode((920,600))\n",
    "pygame.display.set_caption(\"HI AI students\")\n",
    "image=pygame.image.load(r\"C:\\Users\\aedpu\\mid\\.ipynb_checkpoints\\image.png\")\n",
    "while True:\n",
    "    display_surface.fill(white)\n",
    "    display_surface.blit(image,(0,0))\n",
    "    \n",
    "    for event in pygame.event.get():\n",
    "        if event"
   ]
  }
 ],
 "metadata": {
  "kernelspec": {
   "display_name": "Python 3 (ipykernel)",
   "language": "python",
   "name": "python3"
  },
  "language_info": {
   "codemirror_mode": {
    "name": "ipython",
    "version": 3
   },
   "file_extension": ".py",
   "mimetype": "text/x-python",
   "name": "python",
   "nbconvert_exporter": "python",
   "pygments_lexer": "ipython3",
   "version": "3.9.13"
  }
 },
 "nbformat": 4,
 "nbformat_minor": 5
}
