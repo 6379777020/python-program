{
 "cells": [
  {
   "cell_type": "code",
   "execution_count": 3,
   "id": "93ad5da7",
   "metadata": {},
   "outputs": [
    {
     "name": "stdout",
     "output_type": "stream",
     "text": [
      "80\n"
     ]
    }
   ],
   "source": [
    "Class=80\n",
    "print(Class)"
   ]
  },
  {
   "cell_type": "code",
   "execution_count": 2,
   "id": "c86b77f5",
   "metadata": {},
   "outputs": [],
   "source": [
    "a=b=c=d=90"
   ]
  },
  {
   "cell_type": "code",
   "execution_count": 3,
   "id": "6db1da5d",
   "metadata": {},
   "outputs": [
    {
     "data": {
      "text/plain": [
       "90"
      ]
     },
     "execution_count": 3,
     "metadata": {},
     "output_type": "execute_result"
    }
   ],
   "source": [
    "a"
   ]
  },
  {
   "cell_type": "code",
   "execution_count": 4,
   "id": "466d948b",
   "metadata": {},
   "outputs": [
    {
     "data": {
      "text/plain": [
       "90"
      ]
     },
     "execution_count": 4,
     "metadata": {},
     "output_type": "execute_result"
    }
   ],
   "source": [
    "b"
   ]
  },
  {
   "cell_type": "code",
   "execution_count": 5,
   "id": "828334df",
   "metadata": {},
   "outputs": [],
   "source": [
    "a,b,c,d,f=6,7,77,9,50,"
   ]
  },
  {
   "cell_type": "code",
   "execution_count": 6,
   "id": "abc2a9fc",
   "metadata": {},
   "outputs": [
    {
     "data": {
      "text/plain": [
       "50"
      ]
     },
     "execution_count": 6,
     "metadata": {},
     "output_type": "execute_result"
    }
   ],
   "source": [
    "f"
   ]
  },
  {
   "cell_type": "code",
   "execution_count": 8,
   "id": "99d34445",
   "metadata": {},
   "outputs": [],
   "source": [
    "a,b,c,d,f=3,'hi',56.8,'nivash',\"BSC(AI)\""
   ]
  },
  {
   "cell_type": "code",
   "execution_count": 9,
   "id": "4ee70b96",
   "metadata": {},
   "outputs": [
    {
     "data": {
      "text/plain": [
       "3"
      ]
     },
     "execution_count": 9,
     "metadata": {},
     "output_type": "execute_result"
    }
   ],
   "source": [
    "a"
   ]
  },
  {
   "cell_type": "code",
   "execution_count": 10,
   "id": "175a2f5e",
   "metadata": {},
   "outputs": [
    {
     "data": {
      "text/plain": [
       "'hi'"
      ]
     },
     "execution_count": 10,
     "metadata": {},
     "output_type": "execute_result"
    }
   ],
   "source": [
    "b"
   ]
  },
  {
   "cell_type": "code",
   "execution_count": 11,
   "id": "dc61a1ba",
   "metadata": {},
   "outputs": [
    {
     "data": {
      "text/plain": [
       "56.8"
      ]
     },
     "execution_count": 11,
     "metadata": {},
     "output_type": "execute_result"
    }
   ],
   "source": [
    "c"
   ]
  },
  {
   "cell_type": "code",
   "execution_count": 12,
   "id": "cdfe3b16",
   "metadata": {},
   "outputs": [
    {
     "data": {
      "text/plain": [
       "'nivash'"
      ]
     },
     "execution_count": 12,
     "metadata": {},
     "output_type": "execute_result"
    }
   ],
   "source": [
    "d"
   ]
  },
  {
   "cell_type": "code",
   "execution_count": 13,
   "id": "8905d983",
   "metadata": {},
   "outputs": [
    {
     "data": {
      "text/plain": [
       "'BSC(AI)'"
      ]
     },
     "execution_count": 13,
     "metadata": {},
     "output_type": "execute_result"
    }
   ],
   "source": [
    "f"
   ]
  },
  {
   "cell_type": "code",
   "execution_count": 14,
   "id": "ca3bcc92",
   "metadata": {},
   "outputs": [],
   "source": [
    "a=6,797,89,"
   ]
  },
  {
   "cell_type": "code",
   "execution_count": 15,
   "id": "d01aa98f",
   "metadata": {},
   "outputs": [
    {
     "data": {
      "text/plain": [
       "(6, 797, 89)"
      ]
     },
     "execution_count": 15,
     "metadata": {},
     "output_type": "execute_result"
    }
   ],
   "source": [
    "a"
   ]
  },
  {
   "cell_type": "code",
   "execution_count": 16,
   "id": "8837e716",
   "metadata": {},
   "outputs": [
    {
     "data": {
      "text/plain": [
       "(6, 797, 89)"
      ]
     },
     "execution_count": 16,
     "metadata": {},
     "output_type": "execute_result"
    }
   ],
   "source": [
    "a"
   ]
  },
  {
   "cell_type": "code",
   "execution_count": null,
   "id": "2afadc94",
   "metadata": {},
   "outputs": [],
   "source": []
  }
 ],
 "metadata": {
  "kernelspec": {
   "display_name": "Python 3 (ipykernel)",
   "language": "python",
   "name": "python3"
  },
  "language_info": {
   "codemirror_mode": {
    "name": "ipython",
    "version": 3
   },
   "file_extension": ".py",
   "mimetype": "text/x-python",
   "name": "python",
   "nbconvert_exporter": "python",
   "pygments_lexer": "ipython3",
   "version": "3.9.13"
  }
 },
 "nbformat": 4,
 "nbformat_minor": 5
}
