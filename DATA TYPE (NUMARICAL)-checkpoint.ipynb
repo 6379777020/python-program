{
 "cells": [
  {
   "cell_type": "code",
   "execution_count": 1,
   "id": "a1c97afb",
   "metadata": {},
   "outputs": [],
   "source": [
    "hi=4597"
   ]
  },
  {
   "cell_type": "code",
   "execution_count": 2,
   "id": "74f12915",
   "metadata": {},
   "outputs": [
    {
     "data": {
      "text/plain": [
       "4597"
      ]
     },
     "execution_count": 2,
     "metadata": {},
     "output_type": "execute_result"
    }
   ],
   "source": [
    "hi"
   ]
  },
  {
   "cell_type": "code",
   "execution_count": 3,
   "id": "8e4a81e5",
   "metadata": {},
   "outputs": [
    {
     "data": {
      "text/plain": [
       "int"
      ]
     },
     "execution_count": 3,
     "metadata": {},
     "output_type": "execute_result"
    }
   ],
   "source": [
    "type(hi)"
   ]
  },
  {
   "cell_type": "code",
   "execution_count": 4,
   "id": "9d5146ad",
   "metadata": {},
   "outputs": [],
   "source": [
    "y=5657.6843"
   ]
  },
  {
   "cell_type": "code",
   "execution_count": 5,
   "id": "7b661f13",
   "metadata": {},
   "outputs": [
    {
     "data": {
      "text/plain": [
       "5657.6843"
      ]
     },
     "execution_count": 5,
     "metadata": {},
     "output_type": "execute_result"
    }
   ],
   "source": [
    "y"
   ]
  },
  {
   "cell_type": "code",
   "execution_count": 6,
   "id": "775c7c13",
   "metadata": {},
   "outputs": [
    {
     "data": {
      "text/plain": [
       "float"
      ]
     },
     "execution_count": 6,
     "metadata": {},
     "output_type": "execute_result"
    }
   ],
   "source": [
    "type(y)"
   ]
  },
  {
   "cell_type": "code",
   "execution_count": 7,
   "id": "f307a85e",
   "metadata": {},
   "outputs": [],
   "source": [
    "tt=785j"
   ]
  },
  {
   "cell_type": "code",
   "execution_count": 8,
   "id": "204db479",
   "metadata": {},
   "outputs": [
    {
     "data": {
      "text/plain": [
       "785j"
      ]
     },
     "execution_count": 8,
     "metadata": {},
     "output_type": "execute_result"
    }
   ],
   "source": [
    "tt"
   ]
  },
  {
   "cell_type": "code",
   "execution_count": 9,
   "id": "5d47a602",
   "metadata": {},
   "outputs": [
    {
     "data": {
      "text/plain": [
       "complex"
      ]
     },
     "execution_count": 9,
     "metadata": {},
     "output_type": "execute_result"
    }
   ],
   "source": [
    "type(tt)"
   ]
  },
  {
   "cell_type": "code",
   "execution_count": 10,
   "id": "2dd1187c",
   "metadata": {},
   "outputs": [],
   "source": [
    "gyty=6754,6945"
   ]
  },
  {
   "cell_type": "code",
   "execution_count": 11,
   "id": "bb33efd4",
   "metadata": {},
   "outputs": [
    {
     "data": {
      "text/plain": [
       "(6754, 6945)"
      ]
     },
     "execution_count": 11,
     "metadata": {},
     "output_type": "execute_result"
    }
   ],
   "source": [
    "gyty"
   ]
  },
  {
   "cell_type": "code",
   "execution_count": 12,
   "id": "e05076de",
   "metadata": {},
   "outputs": [
    {
     "data": {
      "text/plain": [
       "tuple"
      ]
     },
     "execution_count": 12,
     "metadata": {},
     "output_type": "execute_result"
    }
   ],
   "source": [
    "type(gyty)"
   ]
  },
  {
   "cell_type": "code",
   "execution_count": 13,
   "id": "17444bba",
   "metadata": {},
   "outputs": [],
   "source": [
    "hu=True or False"
   ]
  },
  {
   "cell_type": "code",
   "execution_count": 14,
   "id": "d066145c",
   "metadata": {},
   "outputs": [
    {
     "data": {
      "text/plain": [
       "True"
      ]
     },
     "execution_count": 14,
     "metadata": {},
     "output_type": "execute_result"
    }
   ],
   "source": [
    "hu"
   ]
  },
  {
   "cell_type": "code",
   "execution_count": 15,
   "id": "6fff05cb",
   "metadata": {},
   "outputs": [
    {
     "data": {
      "text/plain": [
       "bool"
      ]
     },
     "execution_count": 15,
     "metadata": {},
     "output_type": "execute_result"
    }
   ],
   "source": [
    "type(hu)"
   ]
  },
  {
   "cell_type": "code",
   "execution_count": null,
   "id": "7adb4dae",
   "metadata": {},
   "outputs": [],
   "source": []
  }
 ],
 "metadata": {
  "kernelspec": {
   "display_name": "Python 3 (ipykernel)",
   "language": "python",
   "name": "python3"
  },
  "language_info": {
   "codemirror_mode": {
    "name": "ipython",
    "version": 3
   },
   "file_extension": ".py",
   "mimetype": "text/x-python",
   "name": "python",
   "nbconvert_exporter": "python",
   "pygments_lexer": "ipython3",
   "version": "3.9.13"
  }
 },
 "nbformat": 4,
 "nbformat_minor": 5
}
