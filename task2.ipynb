{
 "cells": [
  {
   "cell_type": "code",
   "execution_count": 2,
   "id": "be3e0e8c",
   "metadata": {},
   "outputs": [
    {
     "name": "stdout",
     "output_type": "stream",
     "text": [
      "mahindra 250 30\n"
     ]
    }
   ],
   "source": [
    "class vehicle:\n",
    "    def __init__(self,name,speed,millage):\n",
    "        self.name = name\n",
    "        self.speed = speed\n",
    "        self.millage = millage\n",
    "    def disp(self):\n",
    "        print(ob.name,ob.speed,ob.millage)\n",
    "        \n",
    "ob = vehicle(\"mahindra\",250,30)\n",
    "ob.disp()"
   ]
  },
  {
   "cell_type": "markdown",
   "id": "7cc937e0",
   "metadata": {},
   "source": [
    "# task 2"
   ]
  },
  {
   "cell_type": "code",
   "execution_count": 11,
   "id": "85a1e90b",
   "metadata": {},
   "outputs": [
    {
     "name": "stdout",
     "output_type": "stream",
     "text": [
      "vehicle name: mahindra speed: 250 millage: 30 price: 134500000\n"
     ]
    }
   ],
   "source": [
    "class vehicle:\n",
    "    def __init__(self,name,speed,millage):\n",
    "        self.name = name\n",
    "        self.speed = speed\n",
    "        self.millage = millage\n",
    "class automobile(vehicle):\n",
    "    def __init__(self,price):\n",
    "        self.price = price\n",
    "    def disp(self):\n",
    "        super().__init__(name,speed,millage)\n",
    "        self.price = price\n",
    "ob1 = vehicle(\"mahindra\",250,30)\n",
    "ob2 = automobile(134500000)\n",
    "\n",
    "print(\"vehicle name:\",ob1.name,\"speed:\",ob1.speed,\"millage:\",ob1.millage,\"price:\",ob2.price)"
   ]
  },
  {
   "cell_type": "code",
   "execution_count": null,
   "id": "72de47a9",
   "metadata": {},
   "outputs": [],
   "source": []
  }
 ],
 "metadata": {
  "kernelspec": {
   "display_name": "Python 3 (ipykernel)",
   "language": "python",
   "name": "python3"
  },
  "language_info": {
   "codemirror_mode": {
    "name": "ipython",
    "version": 3
   },
   "file_extension": ".py",
   "mimetype": "text/x-python",
   "name": "python",
   "nbconvert_exporter": "python",
   "pygments_lexer": "ipython3",
   "version": "3.9.15"
  }
 },
 "nbformat": 4,
 "nbformat_minor": 5
}
