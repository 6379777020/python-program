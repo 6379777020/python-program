{
 "cells": [
  {
   "cell_type": "code",
   "execution_count": 1,
   "id": "723420d5",
   "metadata": {},
   "outputs": [],
   "source": [
    "you={1:\"hi\",2:\"da\",3:\"pop\"}\n",
    "yyy={1:85,2:896,3:\"duqri\"}"
   ]
  },
  {
   "cell_type": "code",
   "execution_count": 2,
   "id": "a616cc09",
   "metadata": {},
   "outputs": [
    {
     "data": {
      "text/plain": [
       "dict"
      ]
     },
     "execution_count": 2,
     "metadata": {},
     "output_type": "execute_result"
    }
   ],
   "source": [
    "type(you)"
   ]
  },
  {
   "cell_type": "code",
   "execution_count": 3,
   "id": "f864f60d",
   "metadata": {},
   "outputs": [
    {
     "data": {
      "text/plain": [
       "dict"
      ]
     },
     "execution_count": 3,
     "metadata": {},
     "output_type": "execute_result"
    }
   ],
   "source": [
    "type(yyy)"
   ]
  },
  {
   "cell_type": "code",
   "execution_count": 4,
   "id": "67d7aa47",
   "metadata": {},
   "outputs": [
    {
     "data": {
      "text/plain": [
       "3"
      ]
     },
     "execution_count": 4,
     "metadata": {},
     "output_type": "execute_result"
    }
   ],
   "source": [
    "len(you)"
   ]
  },
  {
   "cell_type": "code",
   "execution_count": 5,
   "id": "d1872e9a",
   "metadata": {},
   "outputs": [
    {
     "data": {
      "text/plain": [
       "3"
      ]
     },
     "execution_count": 5,
     "metadata": {},
     "output_type": "execute_result"
    }
   ],
   "source": [
    "len(yyy)"
   ]
  },
  {
   "cell_type": "code",
   "execution_count": 7,
   "id": "28c57d5b",
   "metadata": {},
   "outputs": [
    {
     "data": {
      "text/plain": [
       "dict_keys([1, 2, 3])"
      ]
     },
     "execution_count": 7,
     "metadata": {},
     "output_type": "execute_result"
    }
   ],
   "source": [
    "you.keys()"
   ]
  },
  {
   "cell_type": "code",
   "execution_count": 9,
   "id": "e2eb7a41",
   "metadata": {},
   "outputs": [
    {
     "data": {
      "text/plain": [
       "dict_keys([1, 2, 3])"
      ]
     },
     "execution_count": 9,
     "metadata": {},
     "output_type": "execute_result"
    }
   ],
   "source": [
    "yyy.keys()"
   ]
  },
  {
   "cell_type": "code",
   "execution_count": 10,
   "id": "ea8e02fc",
   "metadata": {},
   "outputs": [
    {
     "data": {
      "text/plain": [
       "dict_values(['hi', 'da', 'pop'])"
      ]
     },
     "execution_count": 10,
     "metadata": {},
     "output_type": "execute_result"
    }
   ],
   "source": [
    "you.values()"
   ]
  },
  {
   "cell_type": "code",
   "execution_count": 11,
   "id": "99490739",
   "metadata": {},
   "outputs": [
    {
     "data": {
      "text/plain": [
       "dict_values([85, 896, 'duqri'])"
      ]
     },
     "execution_count": 11,
     "metadata": {},
     "output_type": "execute_result"
    }
   ],
   "source": [
    "yyy.values()"
   ]
  },
  {
   "cell_type": "code",
   "execution_count": null,
   "id": "aa025cde",
   "metadata": {},
   "outputs": [],
   "source": []
  }
 ],
 "metadata": {
  "kernelspec": {
   "display_name": "Python 3 (ipykernel)",
   "language": "python",
   "name": "python3"
  },
  "language_info": {
   "codemirror_mode": {
    "name": "ipython",
    "version": 3
   },
   "file_extension": ".py",
   "mimetype": "text/x-python",
   "name": "python",
   "nbconvert_exporter": "python",
   "pygments_lexer": "ipython3",
   "version": "3.9.13"
  }
 },
 "nbformat": 4,
 "nbformat_minor": 5
}
