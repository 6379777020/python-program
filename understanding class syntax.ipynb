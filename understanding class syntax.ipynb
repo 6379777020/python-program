{
 "cells": [
  {
   "cell_type": "markdown",
   "id": "9a6ad7eb",
   "metadata": {},
   "source": [
    "# understanding class syntax"
   ]
  },
  {
   "cell_type": "code",
   "execution_count": 2,
   "id": "3243c016",
   "metadata": {
    "scrolled": true
   },
   "outputs": [
    {
     "ename": "SyntaxError",
     "evalue": "invalid syntax (701304501.py, line 1)",
     "output_type": "error",
     "traceback": [
      "\u001b[1;36m  File \u001b[1;32m\"C:\\Users\\m.nivashkannan\\AppData\\Local\\Temp\\ipykernel_6564\\701304501.py\"\u001b[1;36m, line \u001b[1;32m1\u001b[0m\n\u001b[1;33m    class <class_name>:\u001b[0m\n\u001b[1;37m          ^\u001b[0m\n\u001b[1;31mSyntaxError\u001b[0m\u001b[1;31m:\u001b[0m invalid syntax\n"
     ]
    }
   ],
   "source": [
    "class <class_name>:\n",
    "    #Docstring\n",
    "    \n",
    "    def _init_(self,<parametar>):\n",
    "        # use intial all variable"
   ]
  },
  {
   "cell_type": "markdown",
   "id": "3579cc76",
   "metadata": {},
   "source": [
    "# crate class"
   ]
  },
  {
   "cell_type": "code",
   "execution_count": 7,
   "id": "d2ff9a9b",
   "metadata": {},
   "outputs": [
    {
     "ename": "IndentationError",
     "evalue": "expected an indented block (1001072038.py, line 6)",
     "output_type": "error",
     "traceback": [
      "\u001b[1;36m  File \u001b[1;32m\"C:\\Users\\m.nivashkannan\\AppData\\Local\\Temp\\ipykernel_6564\\1001072038.py\"\u001b[1;36m, line \u001b[1;32m6\u001b[0m\n\u001b[1;33m    self.name = name\u001b[0m\n\u001b[1;37m                    ^\u001b[0m\n\u001b[1;31mIndentationError\u001b[0m\u001b[1;31m:\u001b[0m expected an indented block\n"
     ]
    }
   ],
   "source": [
    "\n",
    "        class Stud:\n",
    "    # contains the details of student\n",
    "    \n",
    "    def __init__(self, name, age, employed, college):\n",
    "        # initialize object variables\n",
    "        self.name = name\n",
    "        self.age = age\n",
    "        self.employed = employed\n",
    "        self.education = college\n",
    "        \n",
    "    def descp(self):\n",
    "        print(f\"The name of the student is: {self.name}\")\n",
    "        print(f\"{self.name} is {self.age} years old.\")\n",
    "        print(f\"{self.name} is currently employed {self.employed}.\")\n",
    "        print(f\"{self.name} is an alma mater of {self.education}.\")\n",
    "        \n",
    "    def emp_status(self):\n",
    "        status_check = input(\"Are you currently employed? \")\n",
    "        if status_check == 'y':\n",
    "            self.employed = \"yes\"\n",
    "            self.employee = input(\"Where are you employed? \")\n",
    "            self.salary = input(\"Please enter your salary: \")\n",
    "        else:\n",
    "            self.employed = 'no'\n",
    "                \n",
    "    def emp_disp(self):\n",
    "        print(f\"{self.name} is employed by: {self.employee}.\")\n",
    "        print(f\"{self.name} draws {self.salary} per annum.\")"
   ]
  },
  {
   "cell_type": "markdown",
   "id": "1151d02b",
   "metadata": {},
   "source": [
    "# creating an object of the class"
   ]
  },
  {
   "cell_type": "code",
   "execution_count": 8,
   "id": "f47b7a58",
   "metadata": {},
   "outputs": [
    {
     "ename": "NameError",
     "evalue": "name 'Stud' is not defined",
     "output_type": "error",
     "traceback": [
      "\u001b[1;31m---------------------------------------------------------------------------\u001b[0m",
      "\u001b[1;31mNameError\u001b[0m                                 Traceback (most recent call last)",
      "\u001b[1;32m~\\AppData\\Local\\Temp\\ipykernel_6564\\1539098507.py\u001b[0m in \u001b[0;36m<module>\u001b[1;34m\u001b[0m\n\u001b[1;32m----> 1\u001b[1;33m \u001b[0mcoll\u001b[0m \u001b[1;33m=\u001b[0m \u001b[0mStud\u001b[0m\u001b[1;33m(\u001b[0m\u001b[1;34m\"guru\"\u001b[0m\u001b[1;33m,\u001b[0m \u001b[1;36m20\u001b[0m\u001b[1;33m,\u001b[0m \u001b[1;34m\"yes\"\u001b[0m\u001b[1;33m,\u001b[0m \u001b[1;34m\"PMIST\"\u001b[0m\u001b[1;33m)\u001b[0m\u001b[1;33m\u001b[0m\u001b[1;33m\u001b[0m\u001b[0m\n\u001b[0m",
      "\u001b[1;31mNameError\u001b[0m: name 'Stud' is not defined"
     ]
    }
   ],
   "source": [
    "coll = Stud(\"guru\", 20, \"yes\", \"PMIST\")"
   ]
  },
  {
   "cell_type": "code",
   "execution_count": 10,
   "id": "a0932896",
   "metadata": {},
   "outputs": [
    {
     "ename": "NameError",
     "evalue": "name 'Stud' is not defined",
     "output_type": "error",
     "traceback": [
      "\u001b[1;31m---------------------------------------------------------------------------\u001b[0m",
      "\u001b[1;31mNameError\u001b[0m                                 Traceback (most recent call last)",
      "\u001b[1;32m~\\AppData\\Local\\Temp\\ipykernel_6564\\2411522555.py\u001b[0m in \u001b[0;36m<module>\u001b[1;34m\u001b[0m\n\u001b[1;32m----> 1\u001b[1;33m \u001b[0mcoll01\u001b[0m \u001b[1;33m=\u001b[0m \u001b[0mStud\u001b[0m\u001b[1;33m(\u001b[0m\u001b[1;34m\"nivash\"\u001b[0m\u001b[1;33m,\u001b[0m \u001b[1;36m21\u001b[0m\u001b[1;33m,\u001b[0m \u001b[1;34m\"no\"\u001b[0m\u001b[1;33m,\u001b[0m \u001b[1;34m\"PRIST\"\u001b[0m\u001b[1;33m)\u001b[0m\u001b[1;33m\u001b[0m\u001b[1;33m\u001b[0m\u001b[0m\n\u001b[0m",
      "\u001b[1;31mNameError\u001b[0m: name 'Stud' is not defined"
     ]
    }
   ],
   "source": [
    "coll01 = Stud(\"nivash\", 21, \"no\", \"PRIST\")"
   ]
  },
  {
   "cell_type": "code",
   "execution_count": 9,
   "id": "331d66b6",
   "metadata": {},
   "outputs": [
    {
     "ename": "NameError",
     "evalue": "name 'coll' is not defined",
     "output_type": "error",
     "traceback": [
      "\u001b[1;31m---------------------------------------------------------------------------\u001b[0m",
      "\u001b[1;31mNameError\u001b[0m                                 Traceback (most recent call last)",
      "\u001b[1;32m~\\AppData\\Local\\Temp\\ipykernel_6564\\1657240270.py\u001b[0m in \u001b[0;36m<module>\u001b[1;34m\u001b[0m\n\u001b[1;32m----> 1\u001b[1;33m \u001b[0mcoll\u001b[0m\u001b[1;33m.\u001b[0m\u001b[0mdescp\u001b[0m\u001b[1;33m(\u001b[0m\u001b[1;33m)\u001b[0m\u001b[1;33m\u001b[0m\u001b[1;33m\u001b[0m\u001b[0m\n\u001b[0m",
      "\u001b[1;31mNameError\u001b[0m: name 'coll' is not defined"
     ]
    }
   ],
   "source": [
    "coll.descp()"
   ]
  },
  {
   "cell_type": "code",
   "execution_count": null,
   "id": "22fecb88",
   "metadata": {},
   "outputs": [],
   "source": []
  }
 ],
 "metadata": {
  "kernelspec": {
   "display_name": "Python 3 (ipykernel)",
   "language": "python",
   "name": "python3"
  },
  "language_info": {
   "codemirror_mode": {
    "name": "ipython",
    "version": 3
   },
   "file_extension": ".py",
   "mimetype": "text/x-python",
   "name": "python",
   "nbconvert_exporter": "python",
   "pygments_lexer": "ipython3",
   "version": "3.9.13"
  }
 },
 "nbformat": 4,
 "nbformat_minor": 5
}
