{
 "cells": [
  {
   "cell_type": "code",
   "execution_count": 1,
   "id": "cea6a7be",
   "metadata": {},
   "outputs": [],
   "source": [
    "a={6,5,7,489,\"durai\",\"hayas\",89+8j,88}\n",
    "aa={54,890,489,\"guru\"}"
   ]
  },
  {
   "cell_type": "code",
   "execution_count": 2,
   "id": "3adf507a",
   "metadata": {},
   "outputs": [
    {
     "data": {
      "text/plain": [
       "set"
      ]
     },
     "execution_count": 2,
     "metadata": {},
     "output_type": "execute_result"
    }
   ],
   "source": [
    "type(a)"
   ]
  },
  {
   "cell_type": "code",
   "execution_count": 3,
   "id": "3a72ee70",
   "metadata": {},
   "outputs": [
    {
     "data": {
      "text/plain": [
       "set"
      ]
     },
     "execution_count": 3,
     "metadata": {},
     "output_type": "execute_result"
    }
   ],
   "source": [
    "type(aa)"
   ]
  },
  {
   "cell_type": "code",
   "execution_count": 4,
   "id": "baab74b5",
   "metadata": {},
   "outputs": [
    {
     "data": {
      "text/plain": [
       "8"
      ]
     },
     "execution_count": 4,
     "metadata": {},
     "output_type": "execute_result"
    }
   ],
   "source": [
    "len(a)"
   ]
  },
  {
   "cell_type": "code",
   "execution_count": 5,
   "id": "12665101",
   "metadata": {},
   "outputs": [
    {
     "data": {
      "text/plain": [
       "4"
      ]
     },
     "execution_count": 5,
     "metadata": {},
     "output_type": "execute_result"
    }
   ],
   "source": [
    "len(aa)"
   ]
  },
  {
   "cell_type": "code",
   "execution_count": 6,
   "id": "65213756",
   "metadata": {},
   "outputs": [],
   "source": [
    "dd={666,56547,666,4655,666,\"hi\",\"yes\"}"
   ]
  },
  {
   "cell_type": "code",
   "execution_count": 7,
   "id": "be716842",
   "metadata": {},
   "outputs": [
    {
     "data": {
      "text/plain": [
       "{4655, 56547, 666, 'hi', 'yes'}"
      ]
     },
     "execution_count": 7,
     "metadata": {},
     "output_type": "execute_result"
    }
   ],
   "source": [
    "dd"
   ]
  },
  {
   "cell_type": "code",
   "execution_count": 8,
   "id": "a7aa9a7c",
   "metadata": {},
   "outputs": [
    {
     "data": {
      "text/plain": [
       "5"
      ]
     },
     "execution_count": 8,
     "metadata": {},
     "output_type": "execute_result"
    }
   ],
   "source": [
    "len(dd)"
   ]
  },
  {
   "cell_type": "code",
   "execution_count": 10,
   "id": "863aa971",
   "metadata": {},
   "outputs": [],
   "source": [
    "a.add(78)"
   ]
  },
  {
   "cell_type": "code",
   "execution_count": 11,
   "id": "6f234d91",
   "metadata": {},
   "outputs": [
    {
     "data": {
      "text/plain": [
       "{(89+8j), 489, 5, 6, 7, 78, 88, 'durai', 'hayas'}"
      ]
     },
     "execution_count": 11,
     "metadata": {},
     "output_type": "execute_result"
    }
   ],
   "source": [
    "a"
   ]
  },
  {
   "cell_type": "code",
   "execution_count": 12,
   "id": "6144ef0f",
   "metadata": {},
   "outputs": [],
   "source": [
    "aa.update({4326,\"bala\",64385,7854.566})"
   ]
  },
  {
   "cell_type": "code",
   "execution_count": 13,
   "id": "ac91882d",
   "metadata": {},
   "outputs": [
    {
     "data": {
      "text/plain": [
       "{4326, 489, 54, 64385, 7854.566, 890, 'bala', 'guru'}"
      ]
     },
     "execution_count": 13,
     "metadata": {},
     "output_type": "execute_result"
    }
   ],
   "source": [
    "aa"
   ]
  },
  {
   "cell_type": "code",
   "execution_count": 14,
   "id": "38098d9f",
   "metadata": {},
   "outputs": [],
   "source": [
    "aa.remove(\"bala\")"
   ]
  },
  {
   "cell_type": "code",
   "execution_count": 15,
   "id": "34721c41",
   "metadata": {},
   "outputs": [
    {
     "data": {
      "text/plain": [
       "{4326, 489, 54, 64385, 7854.566, 890, 'guru'}"
      ]
     },
     "execution_count": 15,
     "metadata": {},
     "output_type": "execute_result"
    }
   ],
   "source": [
    "aa"
   ]
  },
  {
   "cell_type": "code",
   "execution_count": 16,
   "id": "fd350a59",
   "metadata": {},
   "outputs": [],
   "source": [
    "aa.discard(54)"
   ]
  },
  {
   "cell_type": "code",
   "execution_count": 17,
   "id": "8f498fb6",
   "metadata": {},
   "outputs": [
    {
     "data": {
      "text/plain": [
       "{4326, 489, 64385, 7854.566, 890, 'guru'}"
      ]
     },
     "execution_count": 17,
     "metadata": {},
     "output_type": "execute_result"
    }
   ],
   "source": [
    "aa"
   ]
  },
  {
   "cell_type": "code",
   "execution_count": 18,
   "id": "d4bbe599",
   "metadata": {},
   "outputs": [
    {
     "data": {
      "text/plain": [
       "'durai'"
      ]
     },
     "execution_count": 18,
     "metadata": {},
     "output_type": "execute_result"
    }
   ],
   "source": [
    "a.pop()"
   ]
  },
  {
   "cell_type": "code",
   "execution_count": 19,
   "id": "481291c6",
   "metadata": {},
   "outputs": [
    {
     "data": {
      "text/plain": [
       "{(89+8j), 4326, 489, 5, 6, 64385, 7, 78, 7854.566, 88, 890, 'guru', 'hayas'}"
      ]
     },
     "execution_count": 19,
     "metadata": {},
     "output_type": "execute_result"
    }
   ],
   "source": [
    "aa|a"
   ]
  },
  {
   "cell_type": "code",
   "execution_count": 20,
   "id": "125fb75e",
   "metadata": {},
   "outputs": [
    {
     "data": {
      "text/plain": [
       "{(89+8j), 4326, 489, 5, 6, 64385, 7, 78, 7854.566, 88, 890, 'guru', 'hayas'}"
      ]
     },
     "execution_count": 20,
     "metadata": {},
     "output_type": "execute_result"
    }
   ],
   "source": [
    "a|aa"
   ]
  },
  {
   "cell_type": "code",
   "execution_count": 21,
   "id": "2f5b940a",
   "metadata": {},
   "outputs": [
    {
     "data": {
      "text/plain": [
       "{(89+8j), 4326, 489, 5, 6, 64385, 7, 78, 7854.566, 88, 890, 'guru', 'hayas'}"
      ]
     },
     "execution_count": 21,
     "metadata": {},
     "output_type": "execute_result"
    }
   ],
   "source": [
    "a|aa"
   ]
  },
  {
   "cell_type": "code",
   "execution_count": 22,
   "id": "acad1a1b",
   "metadata": {},
   "outputs": [],
   "source": [
    "u={(89+8j), 4326, 489, 6, 7, 78, 7854.566, 88, 890, 'durai', 'hayas'}"
   ]
  },
  {
   "cell_type": "code",
   "execution_count": 23,
   "id": "0919286d",
   "metadata": {},
   "outputs": [
    {
     "data": {
      "text/plain": [
       "{(89+8j), 4326, 489, 5, 6, 7, 78, 7854.566, 88, 890, 'durai', 'hayas'}"
      ]
     },
     "execution_count": 23,
     "metadata": {},
     "output_type": "execute_result"
    }
   ],
   "source": [
    "u|a"
   ]
  },
  {
   "cell_type": "code",
   "execution_count": 24,
   "id": "192e8d1e",
   "metadata": {},
   "outputs": [
    {
     "data": {
      "text/plain": [
       "8"
      ]
     },
     "execution_count": 24,
     "metadata": {},
     "output_type": "execute_result"
    }
   ],
   "source": [
    "len(a)"
   ]
  },
  {
   "cell_type": "code",
   "execution_count": 25,
   "id": "6866d447",
   "metadata": {},
   "outputs": [
    {
     "data": {
      "text/plain": [
       "11"
      ]
     },
     "execution_count": 25,
     "metadata": {},
     "output_type": "execute_result"
    }
   ],
   "source": [
    "len(u)"
   ]
  },
  {
   "cell_type": "code",
   "execution_count": 26,
   "id": "ef78005d",
   "metadata": {},
   "outputs": [
    {
     "data": {
      "text/plain": [
       "{(89+8j), 489, 6, 7, 78, 88, 'hayas'}"
      ]
     },
     "execution_count": 26,
     "metadata": {},
     "output_type": "execute_result"
    }
   ],
   "source": [
    "u&a"
   ]
  },
  {
   "cell_type": "code",
   "execution_count": 27,
   "id": "5653d0fc",
   "metadata": {},
   "outputs": [
    {
     "data": {
      "text/plain": [
       "{4326, 7854.566, 890, 'durai'}"
      ]
     },
     "execution_count": 27,
     "metadata": {},
     "output_type": "execute_result"
    }
   ],
   "source": [
    "u-a"
   ]
  },
  {
   "cell_type": "markdown",
   "id": "e22cfbfa",
   "metadata": {},
   "source": [
    "\n",
    "# FROZEN SET"
   ]
  },
  {
   "cell_type": "code",
   "execution_count": 28,
   "id": "3ab5b571",
   "metadata": {},
   "outputs": [],
   "source": [
    "gg=frozenset({55,7666,89450,\"hello\",\"my\"})\n",
    "g=frozenset({5478,9576,\"sun\",\"true\"})"
   ]
  },
  {
   "cell_type": "code",
   "execution_count": 29,
   "id": "84f82560",
   "metadata": {},
   "outputs": [
    {
     "data": {
      "text/plain": [
       "frozenset"
      ]
     },
     "execution_count": 29,
     "metadata": {},
     "output_type": "execute_result"
    }
   ],
   "source": [
    "type(gg)"
   ]
  },
  {
   "cell_type": "code",
   "execution_count": 30,
   "id": "cc82893d",
   "metadata": {},
   "outputs": [
    {
     "data": {
      "text/plain": [
       "frozenset"
      ]
     },
     "execution_count": 30,
     "metadata": {},
     "output_type": "execute_result"
    }
   ],
   "source": [
    "type(g)"
   ]
  },
  {
   "cell_type": "code",
   "execution_count": 31,
   "id": "2ccec1c3",
   "metadata": {},
   "outputs": [
    {
     "data": {
      "text/plain": [
       "5"
      ]
     },
     "execution_count": 31,
     "metadata": {},
     "output_type": "execute_result"
    }
   ],
   "source": [
    "len(gg)"
   ]
  },
  {
   "cell_type": "code",
   "execution_count": 32,
   "id": "d1e63c4b",
   "metadata": {},
   "outputs": [
    {
     "data": {
      "text/plain": [
       "4"
      ]
     },
     "execution_count": 32,
     "metadata": {},
     "output_type": "execute_result"
    }
   ],
   "source": [
    "len(g)"
   ]
  },
  {
   "cell_type": "code",
   "execution_count": 34,
   "id": "d13b47f3",
   "metadata": {},
   "outputs": [
    {
     "ename": "SyntaxError",
     "evalue": "invalid syntax (1195362824.py, line 1)",
     "output_type": "error",
     "traceback": [
      "\u001b[1;36m  File \u001b[1;32m\"C:\\Users\\m.nivashkannan\\AppData\\Local\\Temp\\ipykernel_1928\\1195362824.py\"\u001b[1;36m, line \u001b[1;32m1\u001b[0m\n\u001b[1;33m    gg.add(5478)a\u001b[0m\n\u001b[1;37m                ^\u001b[0m\n\u001b[1;31mSyntaxError\u001b[0m\u001b[1;31m:\u001b[0m invalid syntax\n"
     ]
    }
   ],
   "source": [
    "gg.add(5478)a"
   ]
  },
  {
   "cell_type": "code",
   "execution_count": 35,
   "id": "8240f976",
   "metadata": {},
   "outputs": [
    {
     "ename": "AttributeError",
     "evalue": "'frozenset' object has no attribute 'update'",
     "output_type": "error",
     "traceback": [
      "\u001b[1;31m---------------------------------------------------------------------------\u001b[0m",
      "\u001b[1;31mAttributeError\u001b[0m                            Traceback (most recent call last)",
      "\u001b[1;32m~\\AppData\\Local\\Temp\\ipykernel_1928\\3076802480.py\u001b[0m in \u001b[0;36m<module>\u001b[1;34m\u001b[0m\n\u001b[1;32m----> 1\u001b[1;33m \u001b[0mgg\u001b[0m\u001b[1;33m.\u001b[0m\u001b[0mupdate\u001b[0m\u001b[1;33m(\u001b[0m\u001b[1;36m8963\u001b[0m\u001b[1;33m)\u001b[0m\u001b[1;33m\u001b[0m\u001b[1;33m\u001b[0m\u001b[0m\n\u001b[0m",
      "\u001b[1;31mAttributeError\u001b[0m: 'frozenset' object has no attribute 'update'"
     ]
    }
   ],
   "source": [
    "gg.update(8963)"
   ]
  },
  {
   "cell_type": "code",
   "execution_count": 36,
   "id": "852dc46c",
   "metadata": {},
   "outputs": [
    {
     "data": {
      "text/plain": [
       "frozenset({5478, 55, 7666, 89450, 9576, 'hello', 'my', 'sun', 'true'})"
      ]
     },
     "execution_count": 36,
     "metadata": {},
     "output_type": "execute_result"
    }
   ],
   "source": [
    "gg|g"
   ]
  },
  {
   "cell_type": "code",
   "execution_count": 37,
   "id": "a3a74d01",
   "metadata": {},
   "outputs": [
    {
     "data": {
      "text/plain": [
       "frozenset({55, 7666, 89450, 'hello', 'my'})"
      ]
     },
     "execution_count": 37,
     "metadata": {},
     "output_type": "execute_result"
    }
   ],
   "source": [
    "gg-g"
   ]
  },
  {
   "cell_type": "code",
   "execution_count": 38,
   "id": "23342f48",
   "metadata": {},
   "outputs": [
    {
     "data": {
      "text/plain": [
       "frozenset()"
      ]
     },
     "execution_count": 38,
     "metadata": {},
     "output_type": "execute_result"
    }
   ],
   "source": [
    "g&gg"
   ]
  },
  {
   "cell_type": "code",
   "execution_count": null,
   "id": "00063d27",
   "metadata": {},
   "outputs": [],
   "source": []
  }
 ],
 "metadata": {
  "kernelspec": {
   "display_name": "Python 3 (ipykernel)",
   "language": "python",
   "name": "python3"
  },
  "language_info": {
   "codemirror_mode": {
    "name": "ipython",
    "version": 3
   },
   "file_extension": ".py",
   "mimetype": "text/x-python",
   "name": "python",
   "nbconvert_exporter": "python",
   "pygments_lexer": "ipython3",
   "version": "3.9.13"
  }
 },
 "nbformat": 4,
 "nbformat_minor": 5
}
