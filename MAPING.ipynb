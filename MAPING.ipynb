{
 "cells": [
  {
   "cell_type": "code",
   "execution_count": 1,
   "id": "5894d1e7",
   "metadata": {},
   "outputs": [],
   "source": [
    "name_list = [(\"n1\",10),(\"n2\",22),(\"n3\",15),(\"n4\",17)]"
   ]
  },
  {
   "cell_type": "code",
   "execution_count": 2,
   "id": "6c42ea92",
   "metadata": {},
   "outputs": [
    {
     "name": "stdout",
     "output_type": "stream",
     "text": [
      "('n2', 22)\n",
      "('n3', 15)\n",
      "('n4', 17)\n"
     ]
    }
   ],
   "source": [
    "for name in name_list:\n",
    "    if name[1]>10:\n",
    "        print(name)"
   ]
  },
  {
   "cell_type": "code",
   "execution_count": 3,
   "id": "f73ef3eb",
   "metadata": {},
   "outputs": [
    {
     "data": {
      "text/plain": [
       "[True, False, True, True]"
      ]
     },
     "execution_count": 3,
     "metadata": {},
     "output_type": "execute_result"
    }
   ],
   "source": [
    "check=lambda data:data[1]<18\n",
    "list(map(check,name_list))"
   ]
  },
  {
   "cell_type": "code",
   "execution_count": 4,
   "id": "df86cf60",
   "metadata": {},
   "outputs": [],
   "source": [
    "eligible=filter(check,name_list)"
   ]
  },
  {
   "cell_type": "code",
   "execution_count": 5,
   "id": "dbe7f203",
   "metadata": {},
   "outputs": [
    {
     "data": {
      "text/plain": [
       "[('n1', 10), ('n3', 15), ('n4', 17)]"
      ]
     },
     "execution_count": 5,
     "metadata": {},
     "output_type": "execute_result"
    }
   ],
   "source": [
    "list(eligible)"
   ]
  },
  {
   "cell_type": "code",
   "execution_count": 6,
   "id": "d93885e9",
   "metadata": {},
   "outputs": [],
   "source": [
    "def eligiblity (data):\n",
    "        if data[1]<18:\n",
    "            print(data)"
   ]
  },
  {
   "cell_type": "code",
   "execution_count": 7,
   "id": "74b3b840",
   "metadata": {},
   "outputs": [
    {
     "name": "stdout",
     "output_type": "stream",
     "text": [
      "('n1', 10)\n",
      "('n3', 15)\n",
      "('n4', 17)\n"
     ]
    }
   ],
   "source": [
    "x=list((map(eligiblity,name_list)))"
   ]
  },
  {
   "cell_type": "code",
   "execution_count": null,
   "id": "93137bdc",
   "metadata": {},
   "outputs": [],
   "source": []
  }
 ],
 "metadata": {
  "kernelspec": {
   "display_name": "Python 3 (ipykernel)",
   "language": "python",
   "name": "python3"
  },
  "language_info": {
   "codemirror_mode": {
    "name": "ipython",
    "version": 3
   },
   "file_extension": ".py",
   "mimetype": "text/x-python",
   "name": "python",
   "nbconvert_exporter": "python",
   "pygments_lexer": "ipython3",
   "version": "3.9.13"
  }
 },
 "nbformat": 4,
 "nbformat_minor": 5
}
