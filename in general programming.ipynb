{
 "cells": [
  {
   "cell_type": "markdown",
   "id": "d0ff95ab",
   "metadata": {},
   "source": [
    "# in general programming\n"
   ]
  },
  {
   "cell_type": "code",
   "execution_count": 3,
   "id": "8cdb1b54",
   "metadata": {},
   "outputs": [
    {
     "name": "stdout",
     "output_type": "stream",
     "text": [
      "3\n"
     ]
    }
   ],
   "source": [
    "num1 = 1\n",
    "num2 = 2\n",
    "print(num1+num2)"
   ]
  },
  {
   "cell_type": "code",
   "execution_count": 5,
   "id": "37d0b776",
   "metadata": {},
   "outputs": [
    {
     "name": "stdout",
     "output_type": "stream",
     "text": [
      "python programming\n"
     ]
    }
   ],
   "source": [
    "str1 = \"python\"\n",
    "str2 = \"programming\"\n",
    "print(str1 + \" \" + str2)"
   ]
  },
  {
   "cell_type": "code",
   "execution_count": 7,
   "id": "d219a0f1",
   "metadata": {},
   "outputs": [
    {
     "data": {
      "text/plain": [
       "9"
      ]
     },
     "execution_count": 7,
     "metadata": {},
     "output_type": "execute_result"
    }
   ],
   "source": [
    "num={1,2,3,4,5,6,7,8,9}\n",
    "len(num)"
   ]
  },
  {
   "cell_type": "markdown",
   "id": "2be6c72f",
   "metadata": {},
   "source": [
    "# in classes"
   ]
  },
  {
   "cell_type": "code",
   "execution_count": 8,
   "id": "7ae05c74",
   "metadata": {},
   "outputs": [],
   "source": [
    "class A :\n",
    "    def explore(self):\n",
    "        print(\"explore()method from class A\")\n",
    "        \n",
    "class B(A):\n",
    "    def explore(self):\n",
    "        print(\"explore()method from class B\")"
   ]
  },
  {
   "cell_type": "code",
   "execution_count": 9,
   "id": "be96ed10",
   "metadata": {},
   "outputs": [],
   "source": [
    "b_obj = B()\n",
    "a_obj = A()"
   ]
  },
  {
   "cell_type": "code",
   "execution_count": 10,
   "id": "fddd8920",
   "metadata": {},
   "outputs": [
    {
     "name": "stdout",
     "output_type": "stream",
     "text": [
      "explore()method from class B\n"
     ]
    }
   ],
   "source": [
    "b_obj.explore()"
   ]
  },
  {
   "cell_type": "code",
   "execution_count": 11,
   "id": "d10bf403",
   "metadata": {},
   "outputs": [
    {
     "name": "stdout",
     "output_type": "stream",
     "text": [
      "explore()method from class A\n"
     ]
    }
   ],
   "source": [
    "a_obj.explore()"
   ]
  },
  {
   "cell_type": "code",
   "execution_count": 10,
   "id": "0c713d5b",
   "metadata": {},
   "outputs": [],
   "source": [
    "class person:\n",
    "    # Contains details about an individual\n",
    "    \n",
    "    def __init__(self,fname,lname,year,age,IDnumb):\n",
    "        self.fname = fname\n",
    "        self.lname = lname\n",
    "        self.DOByear = year\n",
    "        self.age = age \n",
    "        self.ID =IDnumb\n",
    "        \n",
    "    def disp(self):\n",
    "        print(self.fname,self.lname)\n",
    "        print(self.DOByear)\n",
    "        print(self.age)\n",
    "        print(self.ID)"
   ]
  },
  {
   "cell_type": "code",
   "execution_count": 11,
   "id": "ccb80991",
   "metadata": {},
   "outputs": [],
   "source": [
    "class Student(person):\n",
    "    # Contains student info\n",
    "    \n",
    "    def __init__(self, name,collage, year_study):\n",
    "        self.fname = name\n",
    "        self.collage = collage\n",
    "        self.year = year_study\n",
    "        \n",
    "    def disp(self):\n",
    "        print(f\"{self.fname} studies in {self.collage} and is in year {self.year}.\")"
   ]
  },
  {
   "cell_type": "code",
   "execution_count": 13,
   "id": "caf9436a",
   "metadata": {},
   "outputs": [],
   "source": [
    "person1 = person(\"raj\",\"karthik\",1990,30,12345)\n",
    "stud1 = Student(\"Mike\",\"MIK\",2)\n",
    "stud2 = person(\"grubalan\",\"gru\",1990,30,98765)"
   ]
  },
  {
   "cell_type": "code",
   "execution_count": 14,
   "id": "075cbb7c",
   "metadata": {},
   "outputs": [
    {
     "name": "stdout",
     "output_type": "stream",
     "text": [
      "raj karthik\n",
      "1990\n",
      "30\n",
      "12345\n"
     ]
    }
   ],
   "source": [
    "person1.disp()"
   ]
  },
  {
   "cell_type": "code",
   "execution_count": null,
   "id": "45e919da",
   "metadata": {},
   "outputs": [],
   "source": []
  }
 ],
 "metadata": {
  "kernelspec": {
   "display_name": "Python 3 (ipykernel)",
   "language": "python",
   "name": "python3"
  },
  "language_info": {
   "codemirror_mode": {
    "name": "ipython",
    "version": 3
   },
   "file_extension": ".py",
   "mimetype": "text/x-python",
   "name": "python",
   "nbconvert_exporter": "python",
   "pygments_lexer": "ipython3",
   "version": "3.9.13"
  }
 },
 "nbformat": 4,
 "nbformat_minor": 5
}
