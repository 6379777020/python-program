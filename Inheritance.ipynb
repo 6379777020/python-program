{
 "cells": [
  {
   "cell_type": "code",
   "execution_count": 5,
   "id": "51b7b722",
   "metadata": {},
   "outputs": [],
   "source": [
    "class person:\n",
    "    # Contains details about an individual\n",
    "    \n",
    "    def _init_(self,fname,lname,year,age,IDnumb):\n",
    "        self.fname = fname\n",
    "        self.lname = lname\n",
    "        self.DOByear = year\n",
    "        self.age = age \n",
    "        self.ID =IDnumb\n",
    "        \n",
    "    def disp(self):\n",
    "        print(self.fname,self.lname)\n",
    "        print(self.DOByear)\n",
    "        print(self.age)\n",
    "        print(self.ID)"
   ]
  },
  {
   "cell_type": "code",
   "execution_count": 11,
   "id": "55981978",
   "metadata": {},
   "outputs": [],
   "source": [
    "class Student(person):\n",
    "    # Contains student info\n",
    "    \n",
    "    def __init__(self, fname, lname, year, age, IDnumb, collage, year_study):\n",
    "        super().__init__(fname, lname, year, age, IDnumb)\n",
    "        self.collage = collage\n",
    "        self.year = year_study\n",
    "        \n",
    "    def study_disp(self):\n",
    "        print(f\"{self.fname} studies in {self.collage} and is in year {self.year}.\")"
   ]
  },
  {
   "cell_type": "code",
   "execution_count": 12,
   "id": "75461eee",
   "metadata": {},
   "outputs": [
    {
     "ename": "TypeError",
     "evalue": "object.__init__() takes exactly one argument (the instance to initialize)",
     "output_type": "error",
     "traceback": [
      "\u001b[1;31m---------------------------------------------------------------------------\u001b[0m",
      "\u001b[1;31mTypeError\u001b[0m                                 Traceback (most recent call last)",
      "\u001b[1;32m~\\AppData\\Local\\Temp\\ipykernel_9580\\949404913.py\u001b[0m in \u001b[0;36m<module>\u001b[1;34m\u001b[0m\n\u001b[1;32m----> 1\u001b[1;33m \u001b[0mstud1\u001b[0m \u001b[1;33m=\u001b[0m \u001b[0mStudent\u001b[0m\u001b[1;33m(\u001b[0m\u001b[1;34m\"guru\"\u001b[0m\u001b[1;33m,\u001b[0m\u001b[1;34m\"balan\"\u001b[0m\u001b[1;33m,\u001b[0m\u001b[1;36m2005\u001b[0m\u001b[1;33m,\u001b[0m\u001b[1;36m19\u001b[0m\u001b[1;33m,\u001b[0m\u001b[1;36m1220121\u001b[0m\u001b[1;33m,\u001b[0m\u001b[1;34m\"pmis\"\u001b[0m\u001b[1;33m,\u001b[0m\u001b[1;36m2018\u001b[0m\u001b[1;33m)\u001b[0m\u001b[1;33m\u001b[0m\u001b[1;33m\u001b[0m\u001b[0m\n\u001b[0m",
      "\u001b[1;32m~\\AppData\\Local\\Temp\\ipykernel_9580\\1495571332.py\u001b[0m in \u001b[0;36m__init__\u001b[1;34m(self, fname, lname, year, age, IDnumb, collage, year_study)\u001b[0m\n\u001b[0;32m      3\u001b[0m \u001b[1;33m\u001b[0m\u001b[0m\n\u001b[0;32m      4\u001b[0m     \u001b[1;32mdef\u001b[0m \u001b[0m__init__\u001b[0m\u001b[1;33m(\u001b[0m\u001b[0mself\u001b[0m\u001b[1;33m,\u001b[0m \u001b[0mfname\u001b[0m\u001b[1;33m,\u001b[0m \u001b[0mlname\u001b[0m\u001b[1;33m,\u001b[0m \u001b[0myear\u001b[0m\u001b[1;33m,\u001b[0m \u001b[0mage\u001b[0m\u001b[1;33m,\u001b[0m \u001b[0mIDnumb\u001b[0m\u001b[1;33m,\u001b[0m \u001b[0mcollage\u001b[0m\u001b[1;33m,\u001b[0m \u001b[0myear_study\u001b[0m\u001b[1;33m)\u001b[0m\u001b[1;33m:\u001b[0m\u001b[1;33m\u001b[0m\u001b[1;33m\u001b[0m\u001b[0m\n\u001b[1;32m----> 5\u001b[1;33m         \u001b[0msuper\u001b[0m\u001b[1;33m(\u001b[0m\u001b[1;33m)\u001b[0m\u001b[1;33m.\u001b[0m\u001b[0m__init__\u001b[0m\u001b[1;33m(\u001b[0m\u001b[0mfname\u001b[0m\u001b[1;33m,\u001b[0m \u001b[0mlname\u001b[0m\u001b[1;33m,\u001b[0m \u001b[0myear\u001b[0m\u001b[1;33m,\u001b[0m \u001b[0mage\u001b[0m\u001b[1;33m,\u001b[0m \u001b[0mIDnumb\u001b[0m\u001b[1;33m)\u001b[0m\u001b[1;33m\u001b[0m\u001b[1;33m\u001b[0m\u001b[0m\n\u001b[0m\u001b[0;32m      6\u001b[0m         \u001b[0mself\u001b[0m\u001b[1;33m.\u001b[0m\u001b[0mcollage\u001b[0m \u001b[1;33m=\u001b[0m \u001b[0mcollage\u001b[0m\u001b[1;33m\u001b[0m\u001b[1;33m\u001b[0m\u001b[0m\n\u001b[0;32m      7\u001b[0m         \u001b[0mself\u001b[0m\u001b[1;33m.\u001b[0m\u001b[0myear\u001b[0m \u001b[1;33m=\u001b[0m \u001b[0myear_study\u001b[0m\u001b[1;33m\u001b[0m\u001b[1;33m\u001b[0m\u001b[0m\n",
      "\u001b[1;31mTypeError\u001b[0m: object.__init__() takes exactly one argument (the instance to initialize)"
     ]
    }
   ],
   "source": [
    "stud1 = Student(\"guru\",\"balan\",2005,19,1220121,\"pmis\",2018)"
   ]
  },
  {
   "cell_type": "code",
   "execution_count": 8,
   "id": "be8a687b",
   "metadata": {},
   "outputs": [
    {
     "ename": "NameError",
     "evalue": "name 'stud1' is not defined",
     "output_type": "error",
     "traceback": [
      "\u001b[1;31m---------------------------------------------------------------------------\u001b[0m",
      "\u001b[1;31mNameError\u001b[0m                                 Traceback (most recent call last)",
      "\u001b[1;32m~\\AppData\\Local\\Temp\\ipykernel_9580\\340354378.py\u001b[0m in \u001b[0;36m<module>\u001b[1;34m\u001b[0m\n\u001b[1;32m----> 1\u001b[1;33m \u001b[0mstud1\u001b[0m\u001b[1;33m.\u001b[0m\u001b[0mdisp\u001b[0m\u001b[1;33m(\u001b[0m\u001b[1;33m)\u001b[0m\u001b[1;33m\u001b[0m\u001b[1;33m\u001b[0m\u001b[0m\n\u001b[0m",
      "\u001b[1;31mNameError\u001b[0m: name 'stud1' is not defined"
     ]
    }
   ],
   "source": [
    "stud1.disp()"
   ]
  },
  {
   "cell_type": "code",
   "execution_count": null,
   "id": "3f93438f",
   "metadata": {},
   "outputs": [],
   "source": [
    "stud1.study_disp()"
   ]
  }
 ],
 "metadata": {
  "kernelspec": {
   "display_name": "Python 3 (ipykernel)",
   "language": "python",
   "name": "python3"
  },
  "language_info": {
   "codemirror_mode": {
    "name": "ipython",
    "version": 3
   },
   "file_extension": ".py",
   "mimetype": "text/x-python",
   "name": "python",
   "nbconvert_exporter": "python",
   "pygments_lexer": "ipython3",
   "version": "3.9.13"
  }
 },
 "nbformat": 4,
 "nbformat_minor": 5
}
