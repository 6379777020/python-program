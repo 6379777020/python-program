{
 "cells": [
  {
   "cell_type": "code",
   "execution_count": 1,
   "id": "8a9647c3",
   "metadata": {},
   "outputs": [],
   "source": [
    "hi = [(\"y1\",55),(\"y2\",90),(\"y3\",53),(\"y4\",17)]"
   ]
  },
  {
   "cell_type": "code",
   "execution_count": 2,
   "id": "7d79fe44",
   "metadata": {},
   "outputs": [
    {
     "name": "stdout",
     "output_type": "stream",
     "text": [
      "('y2', 90)\n"
     ]
    }
   ],
   "source": [
    "for name in hi:\n",
    "    if name[1]>79:\n",
    "        print(name)"
   ]
  },
  {
   "cell_type": "code",
   "execution_count": 3,
   "id": "9bfef21b",
   "metadata": {},
   "outputs": [
    {
     "data": {
      "text/plain": [
       "[48950, 80100, 47170, 15130]"
      ]
     },
     "execution_count": 3,
     "metadata": {},
     "output_type": "execute_result"
    }
   ],
   "source": [
    "check=lambda data:data[1]*890\n",
    "list(map(check,hi))"
   ]
  },
  {
   "cell_type": "code",
   "execution_count": 4,
   "id": "1ece7569",
   "metadata": {},
   "outputs": [
    {
     "data": {
      "text/plain": [
       "[('y1', 55), ('y2', 90), ('y3', 53), ('y4', 17)]"
      ]
     },
     "execution_count": 4,
     "metadata": {},
     "output_type": "execute_result"
    }
   ],
   "source": [
    "eligible=filter(check,hi)\n",
    "list(eligible)"
   ]
  },
  {
   "cell_type": "code",
   "execution_count": 5,
   "id": "b3188f1a",
   "metadata": {},
   "outputs": [],
   "source": [
    "def eligiblity (num01):\n",
    "        if num01[1]+20:\n",
    "            print(num01)"
   ]
  },
  {
   "cell_type": "code",
   "execution_count": 6,
   "id": "0fdf78ce",
   "metadata": {},
   "outputs": [
    {
     "name": "stdout",
     "output_type": "stream",
     "text": [
      "('y1', 55)\n",
      "('y2', 90)\n",
      "('y3', 53)\n",
      "('y4', 17)\n"
     ]
    }
   ],
   "source": [
    "x=list((map(eligiblity,hi)))"
   ]
  },
  {
   "cell_type": "code",
   "execution_count": null,
   "id": "fc66f869",
   "metadata": {},
   "outputs": [],
   "source": []
  }
 ],
 "metadata": {
  "kernelspec": {
   "display_name": "Python 3 (ipykernel)",
   "language": "python",
   "name": "python3"
  },
  "language_info": {
   "codemirror_mode": {
    "name": "ipython",
    "version": 3
   },
   "file_extension": ".py",
   "mimetype": "text/x-python",
   "name": "python",
   "nbconvert_exporter": "python",
   "pygments_lexer": "ipython3",
   "version": "3.9.13"
  }
 },
 "nbformat": 4,
 "nbformat_minor": 5
}
