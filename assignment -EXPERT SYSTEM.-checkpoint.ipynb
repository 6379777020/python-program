{
 "cells": [
  {
   "cell_type": "code",
   "execution_count": 1,
   "id": "36777a88",
   "metadata": {},
   "outputs": [
    {
     "name": "stdout",
     "output_type": "stream",
     "text": [
      "What is your name? nivash\n",
      "WELCOME TO OUR UNIVERSITY PMIST\n",
      "What is your age? 19\n",
      "What is your grade average? 10\n",
      "What is your 12TH SCHOUR ? sri kishna\n"
     ]
    },
    {
     "ename": "ValueError",
     "evalue": "invalid literal for int() with base 10: 'sri kishna'",
     "output_type": "error",
     "traceback": [
      "\u001b[1;31m---------------------------------------------------------------------------\u001b[0m",
      "\u001b[1;31mValueError\u001b[0m                                Traceback (most recent call last)",
      "\u001b[1;32m~\\AppData\\Local\\Temp\\ipykernel_7060\\835204829.py\u001b[0m in \u001b[0;36m<module>\u001b[1;34m\u001b[0m\n\u001b[0;32m      3\u001b[0m \u001b[0mage\u001b[0m \u001b[1;33m=\u001b[0m \u001b[0mint\u001b[0m\u001b[1;33m(\u001b[0m\u001b[0minput\u001b[0m\u001b[1;33m(\u001b[0m\u001b[1;34m\"What is your age? \"\u001b[0m\u001b[1;33m)\u001b[0m\u001b[1;33m)\u001b[0m\u001b[1;33m\u001b[0m\u001b[1;33m\u001b[0m\u001b[0m\n\u001b[0;32m      4\u001b[0m \u001b[0mgrade\u001b[0m \u001b[1;33m=\u001b[0m \u001b[1;33m(\u001b[0m\u001b[0minput\u001b[0m\u001b[1;33m(\u001b[0m\u001b[1;34m\"What is your grade average? \"\u001b[0m\u001b[1;33m)\u001b[0m\u001b[1;33m)\u001b[0m\u001b[1;33m\u001b[0m\u001b[1;33m\u001b[0m\u001b[0m\n\u001b[1;32m----> 5\u001b[1;33m \u001b[0msat_score\u001b[0m \u001b[1;33m=\u001b[0m \u001b[0mint\u001b[0m\u001b[1;33m(\u001b[0m\u001b[0minput\u001b[0m\u001b[1;33m(\u001b[0m\u001b[1;34m\"What is your 12TH SCHOUR ? \"\u001b[0m\u001b[1;33m)\u001b[0m\u001b[1;33m)\u001b[0m\u001b[1;33m\u001b[0m\u001b[1;33m\u001b[0m\u001b[0m\n\u001b[0m\u001b[0;32m      6\u001b[0m \u001b[0mcourse\u001b[0m \u001b[1;33m=\u001b[0m \u001b[0minput\u001b[0m\u001b[1;33m(\u001b[0m\u001b[1;34m\"What course you want ?\"\u001b[0m\u001b[1;33m)\u001b[0m\u001b[1;33m\u001b[0m\u001b[1;33m\u001b[0m\u001b[0m\n\u001b[0;32m      7\u001b[0m \u001b[1;32mif\u001b[0m \u001b[0mgrade\u001b[0m \u001b[1;33m>=\u001b[0m \u001b[1;34m\"a\"\u001b[0m \u001b[1;32mor\u001b[0m \u001b[1;34m\"b\"\u001b[0m \u001b[1;32mor\u001b[0m \u001b[1;34m\"c\"\u001b[0m \u001b[1;32mor\u001b[0m \u001b[1;34m\"d\"\u001b[0m  \u001b[1;32mand\u001b[0m \u001b[0mage\u001b[0m \u001b[1;33m>=\u001b[0m \u001b[1;36m21\u001b[0m\u001b[1;33m:\u001b[0m\u001b[1;33m\u001b[0m\u001b[1;33m\u001b[0m\u001b[0m\n",
      "\u001b[1;31mValueError\u001b[0m: invalid literal for int() with base 10: 'sri kishna'"
     ]
    }
   ],
   "source": [
    "name = input(\"What is your name? \")\n",
    "print(\"WELCOME TO OUR UNIVERSITY \"'PMIST')\n",
    "age = int(input(\"What is your age? \"))\n",
    "grade = (input(\"What is your grade average? \"))\n",
    "sat_score = int(input(\"What is your 12TH SCHOUR ? \"))\n",
    "course = input(\"What course you want ?\")\n",
    "if grade >= \"a\" or \"b\" or \"c\" or \"d\"  and age >= 21:\n",
    "    if sat_score >= 300:\n",
    "        print(f\"Congratulations, {name} You are eligible for : {course}in our  college admission.\")\n",
    "    else:\n",
    "        print(f\"Sorry, {name}, you need to score at least 300 on  12TH SCHOUR to be eligible for college admission.\")\n",
    "else:\n",
    "    print(f\"Sorry, {name}, you are not eligible for college admission.\")"
   ]
  },
  {
   "cell_type": "code",
   "execution_count": null,
   "id": "b926f308",
   "metadata": {},
   "outputs": [],
   "source": []
  }
 ],
 "metadata": {
  "kernelspec": {
   "display_name": "Python 3 (ipykernel)",
   "language": "python",
   "name": "python3"
  },
  "language_info": {
   "codemirror_mode": {
    "name": "ipython",
    "version": 3
   },
   "file_extension": ".py",
   "mimetype": "text/x-python",
   "name": "python",
   "nbconvert_exporter": "python",
   "pygments_lexer": "ipython3",
   "version": "3.9.13"
  }
 },
 "nbformat": 4,
 "nbformat_minor": 5
}
