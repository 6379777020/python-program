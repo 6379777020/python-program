{
 "cells": [
  {
   "cell_type": "code",
   "execution_count": null,
   "id": "155ba735",
   "metadata": {},
   "outputs": [
    {
     "name": "stdout",
     "output_type": "stream",
     "text": [
      "What is your first name? nivas\n",
      "What is your last name? md\n"
     ]
    }
   ],
   "source": [
    "# Collect information from the applicant\n",
    "first_name = input(\"What is your first name? \")\n",
    "last_name = input(\"What is your last name? \")\n",
    "exam_name = input(\"What exam are you applying for? \")\n",
    "email = input(\"What is your email address? \")\n",
    "if exam_name == \"Driver's License\":\n",
    "    eligibility = \"You must be 16 years old or older to apply for a Driver's License.\"\n",
    "elif exam_name == \"High School Diploma\":\n",
    "    eligibility = \"You must have completed 8th grade to apply for a High School Diploma.\"\n",
    "else:\n",
    "    eligibility = \"You are eligible to apply for the exam.\"\n",
    "print(\"Applicant Information:\")\n",
    "print(\"First Name:\", first_name)\n",
    "print(\"Last Name:\", last_name)\n",
    "print(\"Exam Name:\", exam_name)\n",
    "print(\"Email:\", email)\n",
    "print(\"Eligibility:\", eligibility)"
   ]
  },
  {
   "cell_type": "code",
   "execution_count": null,
   "id": "85c55892",
   "metadata": {},
   "outputs": [],
   "source": []
  }
 ],
 "metadata": {
  "kernelspec": {
   "display_name": "Python 3 (ipykernel)",
   "language": "python",
   "name": "python3"
  },
  "language_info": {
   "codemirror_mode": {
    "name": "ipython",
    "version": 3
   },
   "file_extension": ".py",
   "mimetype": "text/x-python",
   "name": "python",
   "nbconvert_exporter": "python",
   "pygments_lexer": "ipython3",
   "version": "3.9.13"
  }
 },
 "nbformat": 4,
 "nbformat_minor": 5
}
